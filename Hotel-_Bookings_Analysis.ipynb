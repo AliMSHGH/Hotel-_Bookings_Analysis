{
 "cells": [
  {
   "attachments": {},
   "cell_type": "markdown",
   "metadata": {},
   "source": [
    "# Hotel Bookings Analysis:"
   ]
  },
  {
   "cell_type": "code",
   "execution_count": 1,
   "metadata": {},
   "outputs": [],
   "source": [
    "import pandas as pd\n",
    "import numpy as np\n",
    "import matplotlib.pyplot as plt\n",
    "import seaborn as sns\n",
    "from datetime import datetime"
   ]
  },
  {
   "attachments": {},
   "cell_type": "markdown",
   "metadata": {},
   "source": [
    "## Reading data:"
   ]
  },
  {
   "cell_type": "code",
   "execution_count": 2,
   "metadata": {},
   "outputs": [
    {
     "data": {
      "text/html": [
       "<div>\n",
       "<style scoped>\n",
       "    .dataframe tbody tr th:only-of-type {\n",
       "        vertical-align: middle;\n",
       "    }\n",
       "\n",
       "    .dataframe tbody tr th {\n",
       "        vertical-align: top;\n",
       "    }\n",
       "\n",
       "    .dataframe thead th {\n",
       "        text-align: right;\n",
       "    }\n",
       "</style>\n",
       "<table border=\"1\" class=\"dataframe\">\n",
       "  <thead>\n",
       "    <tr style=\"text-align: right;\">\n",
       "      <th></th>\n",
       "      <th>hotel</th>\n",
       "      <th>is_canceled</th>\n",
       "      <th>lead_time</th>\n",
       "      <th>arrival_date_year</th>\n",
       "      <th>arrival_date_month</th>\n",
       "      <th>arrival_date_week_number</th>\n",
       "      <th>arrival_date_day_of_month</th>\n",
       "      <th>stays_in_weekend_nights</th>\n",
       "      <th>stays_in_week_nights</th>\n",
       "      <th>adults</th>\n",
       "      <th>...</th>\n",
       "      <th>deposit_type</th>\n",
       "      <th>agent</th>\n",
       "      <th>company</th>\n",
       "      <th>days_in_waiting_list</th>\n",
       "      <th>customer_type</th>\n",
       "      <th>adr</th>\n",
       "      <th>required_car_parking_spaces</th>\n",
       "      <th>total_of_special_requests</th>\n",
       "      <th>reservation_status</th>\n",
       "      <th>reservation_status_date</th>\n",
       "    </tr>\n",
       "  </thead>\n",
       "  <tbody>\n",
       "    <tr>\n",
       "      <th>79120</th>\n",
       "      <td>City Hotel</td>\n",
       "      <td>0</td>\n",
       "      <td>6</td>\n",
       "      <td>2015</td>\n",
       "      <td>October</td>\n",
       "      <td>43</td>\n",
       "      <td>20</td>\n",
       "      <td>0</td>\n",
       "      <td>2</td>\n",
       "      <td>1</td>\n",
       "      <td>...</td>\n",
       "      <td>No Deposit</td>\n",
       "      <td>9.0</td>\n",
       "      <td>NaN</td>\n",
       "      <td>0</td>\n",
       "      <td>Contract</td>\n",
       "      <td>136.00</td>\n",
       "      <td>0</td>\n",
       "      <td>1</td>\n",
       "      <td>Check-Out</td>\n",
       "      <td>2015-10-22</td>\n",
       "    </tr>\n",
       "    <tr>\n",
       "      <th>46339</th>\n",
       "      <td>City Hotel</td>\n",
       "      <td>1</td>\n",
       "      <td>140</td>\n",
       "      <td>2015</td>\n",
       "      <td>December</td>\n",
       "      <td>53</td>\n",
       "      <td>29</td>\n",
       "      <td>0</td>\n",
       "      <td>5</td>\n",
       "      <td>2</td>\n",
       "      <td>...</td>\n",
       "      <td>Non Refund</td>\n",
       "      <td>3.0</td>\n",
       "      <td>NaN</td>\n",
       "      <td>0</td>\n",
       "      <td>Transient</td>\n",
       "      <td>70.00</td>\n",
       "      <td>0</td>\n",
       "      <td>0</td>\n",
       "      <td>Canceled</td>\n",
       "      <td>2015-10-19</td>\n",
       "    </tr>\n",
       "    <tr>\n",
       "      <th>46218</th>\n",
       "      <td>City Hotel</td>\n",
       "      <td>0</td>\n",
       "      <td>22</td>\n",
       "      <td>2015</td>\n",
       "      <td>December</td>\n",
       "      <td>52</td>\n",
       "      <td>26</td>\n",
       "      <td>2</td>\n",
       "      <td>1</td>\n",
       "      <td>2</td>\n",
       "      <td>...</td>\n",
       "      <td>No Deposit</td>\n",
       "      <td>11.0</td>\n",
       "      <td>NaN</td>\n",
       "      <td>0</td>\n",
       "      <td>Transient</td>\n",
       "      <td>59.09</td>\n",
       "      <td>0</td>\n",
       "      <td>0</td>\n",
       "      <td>Check-Out</td>\n",
       "      <td>2015-12-29</td>\n",
       "    </tr>\n",
       "    <tr>\n",
       "      <th>116629</th>\n",
       "      <td>City Hotel</td>\n",
       "      <td>0</td>\n",
       "      <td>53</td>\n",
       "      <td>2017</td>\n",
       "      <td>July</td>\n",
       "      <td>29</td>\n",
       "      <td>22</td>\n",
       "      <td>0</td>\n",
       "      <td>1</td>\n",
       "      <td>2</td>\n",
       "      <td>...</td>\n",
       "      <td>No Deposit</td>\n",
       "      <td>9.0</td>\n",
       "      <td>NaN</td>\n",
       "      <td>0</td>\n",
       "      <td>Transient</td>\n",
       "      <td>190.00</td>\n",
       "      <td>0</td>\n",
       "      <td>2</td>\n",
       "      <td>Check-Out</td>\n",
       "      <td>2017-07-23</td>\n",
       "    </tr>\n",
       "    <tr>\n",
       "      <th>70817</th>\n",
       "      <td>City Hotel</td>\n",
       "      <td>1</td>\n",
       "      <td>227</td>\n",
       "      <td>2017</td>\n",
       "      <td>June</td>\n",
       "      <td>25</td>\n",
       "      <td>23</td>\n",
       "      <td>0</td>\n",
       "      <td>2</td>\n",
       "      <td>2</td>\n",
       "      <td>...</td>\n",
       "      <td>No Deposit</td>\n",
       "      <td>9.0</td>\n",
       "      <td>NaN</td>\n",
       "      <td>0</td>\n",
       "      <td>Transient</td>\n",
       "      <td>99.00</td>\n",
       "      <td>0</td>\n",
       "      <td>0</td>\n",
       "      <td>Canceled</td>\n",
       "      <td>2016-11-10</td>\n",
       "    </tr>\n",
       "  </tbody>\n",
       "</table>\n",
       "<p>5 rows × 32 columns</p>\n",
       "</div>"
      ],
      "text/plain": [
       "             hotel  is_canceled  lead_time  arrival_date_year  \\\n",
       "79120   City Hotel            0          6               2015   \n",
       "46339   City Hotel            1        140               2015   \n",
       "46218   City Hotel            0         22               2015   \n",
       "116629  City Hotel            0         53               2017   \n",
       "70817   City Hotel            1        227               2017   \n",
       "\n",
       "       arrival_date_month  arrival_date_week_number  \\\n",
       "79120             October                        43   \n",
       "46339            December                        53   \n",
       "46218            December                        52   \n",
       "116629               July                        29   \n",
       "70817                June                        25   \n",
       "\n",
       "        arrival_date_day_of_month  stays_in_weekend_nights  \\\n",
       "79120                          20                        0   \n",
       "46339                          29                        0   \n",
       "46218                          26                        2   \n",
       "116629                         22                        0   \n",
       "70817                          23                        0   \n",
       "\n",
       "        stays_in_week_nights  adults  ...  deposit_type  agent company  \\\n",
       "79120                      2       1  ...    No Deposit    9.0     NaN   \n",
       "46339                      5       2  ...    Non Refund    3.0     NaN   \n",
       "46218                      1       2  ...    No Deposit   11.0     NaN   \n",
       "116629                     1       2  ...    No Deposit    9.0     NaN   \n",
       "70817                      2       2  ...    No Deposit    9.0     NaN   \n",
       "\n",
       "       days_in_waiting_list customer_type     adr  \\\n",
       "79120                     0      Contract  136.00   \n",
       "46339                     0     Transient   70.00   \n",
       "46218                     0     Transient   59.09   \n",
       "116629                    0     Transient  190.00   \n",
       "70817                     0     Transient   99.00   \n",
       "\n",
       "        required_car_parking_spaces  total_of_special_requests  \\\n",
       "79120                             0                          1   \n",
       "46339                             0                          0   \n",
       "46218                             0                          0   \n",
       "116629                            0                          2   \n",
       "70817                             0                          0   \n",
       "\n",
       "        reservation_status reservation_status_date  \n",
       "79120            Check-Out              2015-10-22  \n",
       "46339             Canceled              2015-10-19  \n",
       "46218            Check-Out              2015-12-29  \n",
       "116629           Check-Out              2017-07-23  \n",
       "70817             Canceled              2016-11-10  \n",
       "\n",
       "[5 rows x 32 columns]"
      ]
     },
     "execution_count": 2,
     "metadata": {},
     "output_type": "execute_result"
    }
   ],
   "source": [
    "data=pd.read_csv(\"./Data/input/Hotel Bookings.csv\")\n",
    "data.sample(5)"
   ]
  },
  {
   "attachments": {},
   "cell_type": "markdown",
   "metadata": {},
   "source": [
    "## Data Cleaning:"
   ]
  },
  {
   "cell_type": "code",
   "execution_count": 3,
   "metadata": {},
   "outputs": [
    {
     "name": "stdout",
     "output_type": "stream",
     "text": [
      "<class 'pandas.core.frame.DataFrame'>\n",
      "RangeIndex: 119390 entries, 0 to 119389\n",
      "Data columns (total 32 columns):\n",
      " #   Column                          Non-Null Count   Dtype  \n",
      "---  ------                          --------------   -----  \n",
      " 0   hotel                           119390 non-null  object \n",
      " 1   is_canceled                     119390 non-null  int64  \n",
      " 2   lead_time                       119390 non-null  int64  \n",
      " 3   arrival_date_year               119390 non-null  int64  \n",
      " 4   arrival_date_month              119390 non-null  object \n",
      " 5   arrival_date_week_number        119390 non-null  int64  \n",
      " 6   arrival_date_day_of_month       119390 non-null  int64  \n",
      " 7   stays_in_weekend_nights         119390 non-null  int64  \n",
      " 8   stays_in_week_nights            119390 non-null  int64  \n",
      " 9   adults                          119390 non-null  int64  \n",
      " 10  children                        119386 non-null  float64\n",
      " 11  babies                          119390 non-null  int64  \n",
      " 12  meal                            119390 non-null  object \n",
      " 13  country                         118902 non-null  object \n",
      " 14  market_segment                  119390 non-null  object \n",
      " 15  distribution_channel            119390 non-null  object \n",
      " 16  is_repeated_guest               119390 non-null  int64  \n",
      " 17  previous_cancellations          119390 non-null  int64  \n",
      " 18  previous_bookings_not_canceled  119390 non-null  int64  \n",
      " 19  reserved_room_type              119390 non-null  object \n",
      " 20  assigned_room_type              119390 non-null  object \n",
      " 21  booking_changes                 119390 non-null  int64  \n",
      " 22  deposit_type                    119390 non-null  object \n",
      " 23  agent                           103050 non-null  float64\n",
      " 24  company                         6797 non-null    float64\n",
      " 25  days_in_waiting_list            119390 non-null  int64  \n",
      " 26  customer_type                   119390 non-null  object \n",
      " 27  adr                             119390 non-null  float64\n",
      " 28  required_car_parking_spaces     119390 non-null  int64  \n",
      " 29  total_of_special_requests       119390 non-null  int64  \n",
      " 30  reservation_status              119390 non-null  object \n",
      " 31  reservation_status_date         119390 non-null  object \n",
      "dtypes: float64(4), int64(16), object(12)\n",
      "memory usage: 29.1+ MB\n"
     ]
    }
   ],
   "source": [
    "data.info()"
   ]
  },
  {
   "cell_type": "code",
   "execution_count": 4,
   "metadata": {},
   "outputs": [
    {
     "data": {
      "text/plain": [
       "(119390, 32)"
      ]
     },
     "execution_count": 4,
     "metadata": {},
     "output_type": "execute_result"
    }
   ],
   "source": [
    "data.shape"
   ]
  },
  {
   "cell_type": "code",
   "execution_count": 5,
   "metadata": {},
   "outputs": [],
   "source": [
    "df= data.copy()"
   ]
  },
  {
   "attachments": {},
   "cell_type": "markdown",
   "metadata": {},
   "source": [
    "### 1. Check for missing values and find the best practice to deal with them "
   ]
  },
  {
   "cell_type": "code",
   "execution_count": 6,
   "metadata": {},
   "outputs": [
    {
     "data": {
      "text/plain": [
       "hotel                          0\n",
       "is_canceled                    0\n",
       "lead_time                      0\n",
       "arrival_date_year              0\n",
       "arrival_date_month             0\n",
       "arrival_date_week_number       0\n",
       "arrival_date_day_of_month      0\n",
       "stays_in_weekend_nights        0\n",
       "stays_in_week_nights           0\n",
       "adults                         0\n",
       "children                       4\n",
       "babies                         0\n",
       "meal                           0\n",
       "country                      488\n",
       "market_segment                 0\n",
       "distribution_channel           0\n",
       "dtype: int64"
      ]
     },
     "execution_count": 6,
     "metadata": {},
     "output_type": "execute_result"
    }
   ],
   "source": [
    "df.iloc[:,0:16].isnull().sum()"
   ]
  },
  {
   "cell_type": "code",
   "execution_count": 7,
   "metadata": {},
   "outputs": [
    {
     "data": {
      "text/plain": [
       "distribution_channel                   0\n",
       "is_repeated_guest                      0\n",
       "previous_cancellations                 0\n",
       "previous_bookings_not_canceled         0\n",
       "reserved_room_type                     0\n",
       "assigned_room_type                     0\n",
       "booking_changes                        0\n",
       "deposit_type                           0\n",
       "agent                              16340\n",
       "company                           112593\n",
       "days_in_waiting_list                   0\n",
       "customer_type                          0\n",
       "adr                                    0\n",
       "required_car_parking_spaces            0\n",
       "total_of_special_requests              0\n",
       "reservation_status                     0\n",
       "reservation_status_date                0\n",
       "dtype: int64"
      ]
     },
     "execution_count": 7,
     "metadata": {},
     "output_type": "execute_result"
    }
   ],
   "source": [
    "df.iloc[:,15:32].isnull().sum()"
   ]
  },
  {
   "cell_type": "code",
   "execution_count": 8,
   "metadata": {},
   "outputs": [
    {
     "data": {
      "text/plain": [
       "array([ nan, 110., 113., 270., 178., 240., 154., 144., 307., 268.,  59.,\n",
       "       204., 312., 318.,  94., 174., 274., 195., 223., 317., 281., 118.,\n",
       "        53., 286.,  12.,  47., 324., 342., 373., 371., 383.,  86.,  82.,\n",
       "       218.,  88.,  31., 397., 392., 405., 331., 367.,  20.,  83., 416.,\n",
       "        51., 395., 102.,  34.,  84., 360., 394., 457., 382., 461., 478.,\n",
       "       386., 112., 486., 421.,   9., 308., 135., 224., 504., 269., 356.,\n",
       "       498., 390., 513., 203., 263., 477., 521., 169., 515., 445., 337.,\n",
       "       251., 428., 292., 388., 130., 250., 355., 254., 543., 531., 528.,\n",
       "        62., 120.,  42.,  81., 116., 530., 103.,  39.,  16.,  92.,  61.,\n",
       "       501., 165., 291., 290.,  43., 325., 192., 108., 200., 465., 287.,\n",
       "       297., 490., 482., 207., 282., 437., 225., 329., 272.,  28.,  77.,\n",
       "       338.,  72., 246., 319., 146., 159., 380., 323., 511., 407., 278.,\n",
       "        80., 403., 399.,  14., 137., 343., 346., 347., 349., 289., 351.,\n",
       "       353.,  54.,  99., 358., 361., 362., 366., 372., 365., 277., 109.,\n",
       "       377., 379.,  22., 378., 330., 364., 401., 232., 255., 384., 167.,\n",
       "       212., 514., 391., 400., 376., 402., 396., 302., 398.,   6., 370.,\n",
       "       369., 409., 168., 104., 408., 413., 148.,  10., 333., 419., 415.,\n",
       "       424., 425., 423., 422., 435., 439., 442., 448., 443., 454., 444.,\n",
       "        52., 459., 458., 456., 460., 447., 470., 466., 484., 184., 485.,\n",
       "        32., 487., 491., 494., 193., 516., 496., 499.,  29.,  78., 520.,\n",
       "       507., 506., 512., 126.,  64., 242., 518., 523., 539., 534., 436.,\n",
       "       525., 541.,  40., 455., 410.,  45.,  38.,  49.,  48.,  67.,  68.,\n",
       "        65.,  91.,  37.,   8., 179., 209., 219., 221., 227., 153., 186.,\n",
       "       253., 202., 216., 275., 233., 280., 309., 321.,  93., 316.,  85.,\n",
       "       107., 350., 279., 334., 348., 150.,  73., 385., 418., 197., 450.,\n",
       "       452., 115.,  46.,  76.,  96., 100., 105., 101., 122.,  11., 139.,\n",
       "       142., 127., 143., 140., 149., 163., 160., 180., 238., 183., 222.,\n",
       "       185., 217., 215., 213., 237., 230., 234.,  35., 245., 158., 258.,\n",
       "       259., 260., 411., 257., 271.,  18., 106., 210., 273.,  71., 284.,\n",
       "       301., 305., 293., 264., 311., 304., 313., 288., 320., 314., 332.,\n",
       "       341., 352., 243., 368., 393., 132., 220., 412., 420., 426., 417.,\n",
       "       429., 433., 446., 357., 479., 483., 489., 229., 481., 497., 451.,\n",
       "       492.])"
      ]
     },
     "execution_count": 8,
     "metadata": {},
     "output_type": "execute_result"
    }
   ],
   "source": [
    "df['company'].unique()"
   ]
  },
  {
   "cell_type": "code",
   "execution_count": 9,
   "metadata": {},
   "outputs": [
    {
     "data": {
      "text/plain": [
       "array([ nan, 304., 240., 303.,  15., 241.,   8., 250., 115.,   5., 175.,\n",
       "       134., 156., 243., 242.,   3., 105.,  40., 147., 306., 184.,  96.,\n",
       "         2., 127.,  95., 146.,   9., 177.,   6., 143., 244., 149., 167.,\n",
       "       300., 171., 305.,  67., 196., 152., 142., 261., 104.,  36.,  26.,\n",
       "        29., 258., 110.,  71., 181.,  88., 251., 275.,  69., 248., 208.,\n",
       "       256., 314., 126., 281., 273., 253., 185., 330., 334., 328., 326.,\n",
       "       321., 324., 313.,  38., 155.,  68., 335., 308., 332.,  94., 348.,\n",
       "       310., 339., 375.,  66., 327., 387., 298.,  91., 245., 385., 257.,\n",
       "       393., 168., 405., 249., 315.,  75., 128., 307.,  11., 436.,   1.,\n",
       "       201., 183., 223., 368., 336., 291., 464., 411., 481.,  10., 154.,\n",
       "       468., 410., 390., 440., 495., 492., 493., 434.,  57., 531., 420.,\n",
       "       483., 526., 472., 429.,  16., 446.,  34.,  78., 139., 252., 270.,\n",
       "        47., 114., 301., 193., 182., 135., 350., 195., 352., 355., 159.,\n",
       "       363., 384., 360., 331., 367.,  64., 406., 163., 414., 333., 427.,\n",
       "       431., 430., 426., 438., 433., 418., 441., 282., 432.,  72., 450.,\n",
       "       180., 454., 455.,  59., 451., 254., 358., 469., 165., 467., 510.,\n",
       "       337., 476., 502., 527., 479., 508., 535., 302., 497., 187.,  13.,\n",
       "         7.,  27.,  14.,  22.,  17.,  28.,  42.,  20.,  19.,  45.,  37.,\n",
       "        61.,  39.,  21.,  24.,  41.,  50.,  30.,  54.,  52.,  12.,  44.,\n",
       "        31.,  83.,  32.,  63.,  60.,  55.,  56.,  89.,  87., 118.,  86.,\n",
       "        85., 210., 214., 129., 179., 138., 174., 170., 153.,  93., 151.,\n",
       "       119.,  35., 173.,  58.,  53., 133.,  79., 235., 192., 191., 236.,\n",
       "       162., 215., 157., 287., 132., 234.,  98.,  77., 103., 107., 262.,\n",
       "       220., 121., 205., 378.,  23., 296., 290., 229.,  33., 286., 276.,\n",
       "       425., 484., 323., 403., 219., 394., 509., 111., 423.,   4.,  70.,\n",
       "        82.,  81.,  74.,  92.,  99.,  90., 112., 117., 106., 148., 158.,\n",
       "       144., 211., 213., 216., 232., 150., 267., 227., 247., 278., 280.,\n",
       "       285., 289., 269., 295., 265., 288., 122., 294., 325., 341., 344.,\n",
       "       346., 359., 283., 364., 370., 371.,  25., 141., 391., 397., 416.,\n",
       "       404., 299., 197.,  73., 354., 444., 408., 461., 388., 453., 459.,\n",
       "       474., 475., 480., 449.])"
      ]
     },
     "execution_count": 9,
     "metadata": {},
     "output_type": "execute_result"
    }
   ],
   "source": [
    "df['agent'].unique()"
   ]
  },
  {
   "cell_type": "code",
   "execution_count": 10,
   "metadata": {},
   "outputs": [
    {
     "data": {
      "text/plain": [
       "array(['PRT', 'GBR', 'USA', 'ESP', 'IRL', 'FRA', nan, 'ROU', 'NOR', 'OMN',\n",
       "       'ARG', 'POL', 'DEU', 'BEL', 'CHE', 'CN', 'GRC', 'ITA', 'NLD',\n",
       "       'DNK', 'RUS', 'SWE', 'AUS', 'EST', 'CZE', 'BRA', 'FIN', 'MOZ',\n",
       "       'BWA', 'LUX', 'SVN', 'ALB', 'IND', 'CHN', 'MEX', 'MAR', 'UKR',\n",
       "       'SMR', 'LVA', 'PRI', 'SRB', 'CHL', 'AUT', 'BLR', 'LTU', 'TUR',\n",
       "       'ZAF', 'AGO', 'ISR', 'CYM', 'ZMB', 'CPV', 'ZWE', 'DZA', 'KOR',\n",
       "       'CRI', 'HUN', 'ARE', 'TUN', 'JAM', 'HRV', 'HKG', 'IRN', 'GEO',\n",
       "       'AND', 'GIB', 'URY', 'JEY', 'CAF', 'CYP', 'COL', 'GGY', 'KWT',\n",
       "       'NGA', 'MDV', 'VEN', 'SVK', 'FJI', 'KAZ', 'PAK', 'IDN', 'LBN',\n",
       "       'PHL', 'SEN', 'SYC', 'AZE', 'BHR', 'NZL', 'THA', 'DOM', 'MKD',\n",
       "       'MYS', 'ARM', 'JPN', 'LKA', 'CUB', 'CMR', 'BIH', 'MUS', 'COM',\n",
       "       'SUR', 'UGA', 'BGR', 'CIV', 'JOR', 'SYR', 'SGP', 'BDI', 'SAU',\n",
       "       'VNM', 'PLW', 'QAT', 'EGY', 'PER', 'MLT', 'MWI', 'ECU', 'MDG',\n",
       "       'ISL', 'UZB', 'NPL', 'BHS', 'MAC', 'TGO', 'TWN', 'DJI', 'STP',\n",
       "       'KNA', 'ETH', 'IRQ', 'HND', 'RWA', 'KHM', 'MCO', 'BGD', 'IMN',\n",
       "       'TJK', 'NIC', 'BEN', 'VGB', 'TZA', 'GAB', 'GHA', 'TMP', 'GLP',\n",
       "       'KEN', 'LIE', 'GNB', 'MNE', 'UMI', 'MYT', 'FRO', 'MMR', 'PAN',\n",
       "       'BFA', 'LBY', 'MLI', 'NAM', 'BOL', 'PRY', 'BRB', 'ABW', 'AIA',\n",
       "       'SLV', 'DMA', 'PYF', 'GUY', 'LCA', 'ATA', 'GTM', 'ASM', 'MRT',\n",
       "       'NCL', 'KIR', 'SDN', 'ATF', 'SLE', 'LAO'], dtype=object)"
      ]
     },
     "execution_count": 10,
     "metadata": {},
     "output_type": "execute_result"
    }
   ],
   "source": [
    "df['country'].unique()"
   ]
  },
  {
   "cell_type": "code",
   "execution_count": 11,
   "metadata": {},
   "outputs": [
    {
     "data": {
      "text/plain": [
       "488"
      ]
     },
     "execution_count": 11,
     "metadata": {},
     "output_type": "execute_result"
    }
   ],
   "source": [
    "df['country'].isnull().sum()"
   ]
  },
  {
   "cell_type": "code",
   "execution_count": 12,
   "metadata": {},
   "outputs": [
    {
     "data": {
      "text/plain": [
       "array([ 0.,  1.,  2., 10.,  3., nan])"
      ]
     },
     "execution_count": 12,
     "metadata": {},
     "output_type": "execute_result"
    }
   ],
   "source": [
    "df['children'].unique()"
   ]
  },
  {
   "cell_type": "code",
   "execution_count": 13,
   "metadata": {},
   "outputs": [
    {
     "data": {
      "text/plain": [
       "4"
      ]
     },
     "execution_count": 13,
     "metadata": {},
     "output_type": "execute_result"
    }
   ],
   "source": [
    "df['children'].isnull().sum()"
   ]
  },
  {
   "cell_type": "code",
   "execution_count": 14,
   "metadata": {},
   "outputs": [],
   "source": [
    "df['company'] = df['company'].replace(np.nan, -1)\n",
    "df['agent'] = df['agent'].replace(np.nan, -1)\n",
    "df = df.dropna(subset='country')\n",
    "df = df.dropna(subset='children')"
   ]
  },
  {
   "cell_type": "code",
   "execution_count": 15,
   "metadata": {},
   "outputs": [
    {
     "data": {
      "text/plain": [
       "hotel                        0\n",
       "is_canceled                  0\n",
       "lead_time                    0\n",
       "arrival_date_year            0\n",
       "arrival_date_month           0\n",
       "arrival_date_week_number     0\n",
       "arrival_date_day_of_month    0\n",
       "stays_in_weekend_nights      0\n",
       "stays_in_week_nights         0\n",
       "adults                       0\n",
       "children                     0\n",
       "babies                       0\n",
       "meal                         0\n",
       "country                      0\n",
       "market_segment               0\n",
       "distribution_channel         0\n",
       "dtype: int64"
      ]
     },
     "execution_count": 15,
     "metadata": {},
     "output_type": "execute_result"
    }
   ],
   "source": [
    "df.iloc[:,0:16].isnull().sum()"
   ]
  },
  {
   "cell_type": "code",
   "execution_count": 16,
   "metadata": {},
   "outputs": [
    {
     "data": {
      "text/plain": [
       "distribution_channel              0\n",
       "is_repeated_guest                 0\n",
       "previous_cancellations            0\n",
       "previous_bookings_not_canceled    0\n",
       "reserved_room_type                0\n",
       "assigned_room_type                0\n",
       "booking_changes                   0\n",
       "deposit_type                      0\n",
       "agent                             0\n",
       "company                           0\n",
       "days_in_waiting_list              0\n",
       "customer_type                     0\n",
       "adr                               0\n",
       "required_car_parking_spaces       0\n",
       "total_of_special_requests         0\n",
       "reservation_status                0\n",
       "reservation_status_date           0\n",
       "dtype: int64"
      ]
     },
     "execution_count": 16,
     "metadata": {},
     "output_type": "execute_result"
    }
   ],
   "source": [
    "df.iloc[:,15:32].isnull().sum()"
   ]
  },
  {
   "attachments": {},
   "cell_type": "markdown",
   "metadata": {},
   "source": [
    "### 2. Convert the dtypes to appropriate ones according to the values "
   ]
  },
  {
   "cell_type": "code",
   "execution_count": 17,
   "metadata": {},
   "outputs": [
    {
     "name": "stdout",
     "output_type": "stream",
     "text": [
      "<class 'pandas.core.frame.DataFrame'>\n",
      "Index: 118898 entries, 0 to 119389\n",
      "Data columns (total 16 columns):\n",
      " #   Column                     Non-Null Count   Dtype  \n",
      "---  ------                     --------------   -----  \n",
      " 0   hotel                      118898 non-null  object \n",
      " 1   is_canceled                118898 non-null  int64  \n",
      " 2   lead_time                  118898 non-null  int64  \n",
      " 3   arrival_date_year          118898 non-null  int64  \n",
      " 4   arrival_date_month         118898 non-null  object \n",
      " 5   arrival_date_week_number   118898 non-null  int64  \n",
      " 6   arrival_date_day_of_month  118898 non-null  int64  \n",
      " 7   stays_in_weekend_nights    118898 non-null  int64  \n",
      " 8   stays_in_week_nights       118898 non-null  int64  \n",
      " 9   adults                     118898 non-null  int64  \n",
      " 10  children                   118898 non-null  float64\n",
      " 11  babies                     118898 non-null  int64  \n",
      " 12  meal                       118898 non-null  object \n",
      " 13  country                    118898 non-null  object \n",
      " 14  market_segment             118898 non-null  object \n",
      " 15  distribution_channel       118898 non-null  object \n",
      "dtypes: float64(1), int64(9), object(6)\n",
      "memory usage: 15.4+ MB\n"
     ]
    }
   ],
   "source": [
    "df.iloc[:,0:16].info()"
   ]
  },
  {
   "cell_type": "code",
   "execution_count": 18,
   "metadata": {},
   "outputs": [
    {
     "name": "stdout",
     "output_type": "stream",
     "text": [
      "<class 'pandas.core.frame.DataFrame'>\n",
      "Index: 118898 entries, 0 to 119389\n",
      "Data columns (total 17 columns):\n",
      " #   Column                          Non-Null Count   Dtype  \n",
      "---  ------                          --------------   -----  \n",
      " 0   distribution_channel            118898 non-null  object \n",
      " 1   is_repeated_guest               118898 non-null  int64  \n",
      " 2   previous_cancellations          118898 non-null  int64  \n",
      " 3   previous_bookings_not_canceled  118898 non-null  int64  \n",
      " 4   reserved_room_type              118898 non-null  object \n",
      " 5   assigned_room_type              118898 non-null  object \n",
      " 6   booking_changes                 118898 non-null  int64  \n",
      " 7   deposit_type                    118898 non-null  object \n",
      " 8   agent                           118898 non-null  float64\n",
      " 9   company                         118898 non-null  float64\n",
      " 10  days_in_waiting_list            118898 non-null  int64  \n",
      " 11  customer_type                   118898 non-null  object \n",
      " 12  adr                             118898 non-null  float64\n",
      " 13  required_car_parking_spaces     118898 non-null  int64  \n",
      " 14  total_of_special_requests       118898 non-null  int64  \n",
      " 15  reservation_status              118898 non-null  object \n",
      " 16  reservation_status_date         118898 non-null  object \n",
      "dtypes: float64(3), int64(7), object(7)\n",
      "memory usage: 16.3+ MB\n"
     ]
    }
   ],
   "source": [
    "df.iloc[:,15:32].info()"
   ]
  },
  {
   "cell_type": "code",
   "execution_count": 19,
   "metadata": {},
   "outputs": [
    {
     "data": {
      "text/plain": [
       "array(['Resort Hotel', 'City Hotel'], dtype=object)"
      ]
     },
     "execution_count": 19,
     "metadata": {},
     "output_type": "execute_result"
    }
   ],
   "source": [
    "df['hotel'].unique()"
   ]
  },
  {
   "cell_type": "code",
   "execution_count": 20,
   "metadata": {},
   "outputs": [
    {
     "data": {
      "text/plain": [
       "array([0, 1], dtype=int64)"
      ]
     },
     "execution_count": 20,
     "metadata": {},
     "output_type": "execute_result"
    }
   ],
   "source": [
    "df['is_canceled'].unique()"
   ]
  },
  {
   "cell_type": "code",
   "execution_count": 21,
   "metadata": {},
   "outputs": [
    {
     "data": {
      "text/plain": [
       "array([342, 737,   7,  13,  14,   0,   9,  85,  75,  23,  35,  68,  18,\n",
       "        37,  12,  72, 127,  78,  48,  60,  77,  99,  95,  96,  69,  45,\n",
       "        40,  15,  36,  43,  70,  16, 107,  47, 113,  90,  50,  93,  76,\n",
       "         3,   1,  10,   5,  17,  51,  71,  63,  62, 101,   2,  81, 368,\n",
       "       364, 324,  79,  21, 109, 102,   4,  98,  92,  26,  73, 115,  86,\n",
       "        52,  29,  30,  33,  32,   8, 100,  44,  80,  97,  64,  39,  34,\n",
       "        27,  82,  94, 110, 111,  84,  66, 104,  28, 258, 112,  65,  67,\n",
       "        55,  88,  54, 292,  83, 105, 280, 394,  24, 103, 366, 249,  22,\n",
       "        91,  11, 108, 106,  31,  87,  41, 304, 117,  59,  53,  58, 116,\n",
       "        42, 321,  38, 118,  56,  49, 317,   6,  57,  19,  25, 315, 123,\n",
       "        46,  89,  61, 312, 299, 130,  74, 298, 119,  20, 286, 136, 129,\n",
       "       124, 327, 131, 460, 140, 114, 139, 122, 137, 126, 120, 128, 135,\n",
       "       150, 143, 151, 132, 125, 157, 147, 138, 156, 164, 346, 159, 160,\n",
       "       161, 333, 381, 149, 154, 297, 163, 314, 155, 323, 340, 356, 142,\n",
       "       328, 144, 336, 248, 302, 175, 344, 382, 146, 170, 166, 338, 167,\n",
       "       310, 148, 165, 172, 171, 145, 121, 178, 305, 173, 152, 354, 347,\n",
       "       158, 185, 349, 183, 352, 177, 200, 192, 361, 207, 174, 330, 134,\n",
       "       350, 334, 283, 153, 197, 133, 241, 193, 235, 194, 261, 260, 216,\n",
       "       169, 209, 238, 215, 141, 189, 187, 223, 284, 214, 202, 211, 168,\n",
       "       230, 203, 188, 232, 709, 219, 162, 196, 190, 259, 228, 176, 250,\n",
       "       201, 186, 199, 180, 206, 205, 224, 222, 182, 210, 275, 212, 229,\n",
       "       218, 208, 191, 181, 179, 246, 255, 226, 288, 253, 252, 262, 236,\n",
       "       256, 234, 254, 468, 213, 237, 198, 195, 239, 263, 265, 274, 217,\n",
       "       220, 307, 221, 233, 257, 227, 276, 225, 264, 311, 277, 204, 290,\n",
       "       266, 270, 294, 319, 282, 251, 322, 291, 269, 240, 271, 184, 231,\n",
       "       268, 247, 273, 300, 301, 267, 244, 306, 293, 309, 272, 242, 295,\n",
       "       285, 243, 308, 398, 303, 245, 424, 279, 331, 281, 339, 434, 357,\n",
       "       325, 329, 278, 332, 343, 345, 360, 348, 367, 353, 373, 374, 406,\n",
       "       400, 326, 379, 399, 316, 341, 320, 385, 355, 363, 358, 296, 422,\n",
       "       390, 335, 370, 376, 375, 397, 289, 542, 403, 383, 384, 359, 393,\n",
       "       337, 362, 365, 435, 386, 378, 313, 351, 287, 471, 462, 411, 450,\n",
       "       318, 372, 371, 454, 532, 445, 389, 388, 407, 443, 437, 451, 391,\n",
       "       405, 412, 419, 420, 426, 433, 440, 429, 418, 447, 461, 605, 457,\n",
       "       475, 464, 482, 626, 489, 496, 503, 510, 517, 524, 531, 538, 545,\n",
       "       552, 559, 566, 573, 580, 587, 594, 601, 608, 615, 622, 629, 396,\n",
       "       410, 395, 423, 408, 409, 448, 465, 387, 414, 476, 479, 467, 490,\n",
       "       493, 478, 504, 507, 458, 518, 521, 377, 444, 380, 463], dtype=int64)"
      ]
     },
     "execution_count": 21,
     "metadata": {},
     "output_type": "execute_result"
    }
   ],
   "source": [
    "df['lead_time'].unique()"
   ]
  },
  {
   "cell_type": "code",
   "execution_count": 22,
   "metadata": {},
   "outputs": [
    {
     "name": "stdout",
     "output_type": "stream",
     "text": [
      "Max: 737\n",
      "Min: 0\n"
     ]
    }
   ],
   "source": [
    "print('Max:',df['lead_time'].max())\n",
    "print(\"Min:\",df['lead_time'].min())"
   ]
  },
  {
   "cell_type": "code",
   "execution_count": 23,
   "metadata": {},
   "outputs": [
    {
     "data": {
      "text/plain": [
       "array([2015, 2016, 2017], dtype=int64)"
      ]
     },
     "execution_count": 23,
     "metadata": {},
     "output_type": "execute_result"
    }
   ],
   "source": [
    "df['arrival_date_year'].unique()"
   ]
  },
  {
   "cell_type": "code",
   "execution_count": 24,
   "metadata": {},
   "outputs": [
    {
     "data": {
      "text/plain": [
       "array(['July', 'August', 'September', 'October', 'November', 'December',\n",
       "       'January', 'February', 'March', 'April', 'May', 'June'],\n",
       "      dtype=object)"
      ]
     },
     "execution_count": 24,
     "metadata": {},
     "output_type": "execute_result"
    }
   ],
   "source": [
    "df['arrival_date_month'].unique()"
   ]
  },
  {
   "cell_type": "code",
   "execution_count": 25,
   "metadata": {},
   "outputs": [
    {
     "name": "stdout",
     "output_type": "stream",
     "text": [
      "[27 28 29 30 31 32 33 34 35 36 37 38 39 40 41 42 43 44 45 46 47 48 49 50\n",
      " 51 52 53  1  2  3  4  5  6  7  8  9 10 11 12 13 14 15 16 17 18 19 20 21\n",
      " 22 23 24 25 26]\n",
      "Max: 53\n",
      "Min: 1\n"
     ]
    }
   ],
   "source": [
    "print(df['arrival_date_week_number'].unique())\n",
    "print('Max:',df['arrival_date_week_number'].max())\n",
    "print('Min:',df['arrival_date_week_number'].min())"
   ]
  },
  {
   "cell_type": "code",
   "execution_count": 26,
   "metadata": {},
   "outputs": [
    {
     "name": "stdout",
     "output_type": "stream",
     "text": [
      "[ 1  2  3  4  5  6  7  8  9 10 11 12 13 14 15 16 17 18 19 20 21 22 23 24\n",
      " 25 26 27 28 29 30 31]\n",
      "Max: 31\n",
      "Min: 1\n"
     ]
    }
   ],
   "source": [
    "print(df['arrival_date_day_of_month'].unique())\n",
    "print('Max:',df['arrival_date_day_of_month'].max())\n",
    "print('Min:',df['arrival_date_day_of_month'].min())"
   ]
  },
  {
   "cell_type": "code",
   "execution_count": 27,
   "metadata": {},
   "outputs": [
    {
     "name": "stdout",
     "output_type": "stream",
     "text": [
      "[ 0  1  2  4  3  6 13  8  5  7 12  9 16 10 14]\n",
      "Max: 16\n",
      "Min: 0\n"
     ]
    }
   ],
   "source": [
    "print(df['stays_in_weekend_nights'].unique())\n",
    "print('Max:',df['stays_in_weekend_nights'].max())\n",
    "print('Min:',df['stays_in_weekend_nights'].min())"
   ]
  },
  {
   "cell_type": "code",
   "execution_count": 28,
   "metadata": {},
   "outputs": [
    {
     "name": "stdout",
     "output_type": "stream",
     "text": [
      "[ 0  1  2  3  4  5 11  8 10  6  7 15  9 12 33 20 14 16 21 13 30 19 24 40\n",
      " 22 25 17 32 26 18 34 35 41]\n",
      "Max: 41\n",
      "Min: 0\n"
     ]
    }
   ],
   "source": [
    "print(df['stays_in_week_nights'].unique())\n",
    "print('Max:',df['stays_in_week_nights'].max())\n",
    "print('Min:',df['stays_in_week_nights'].min())"
   ]
  },
  {
   "cell_type": "code",
   "execution_count": 29,
   "metadata": {},
   "outputs": [
    {
     "name": "stdout",
     "output_type": "stream",
     "text": [
      "[ 2  1  3  4 40 26 50 27 55  0 20  6  5 10]\n",
      "Max: 55\n",
      "Min: 0\n"
     ]
    }
   ],
   "source": [
    "print(df['adults'].unique())\n",
    "print('Max:',df['adults'].max())\n",
    "print('Min:',df['adults'].min())"
   ]
  },
  {
   "cell_type": "code",
   "execution_count": 30,
   "metadata": {},
   "outputs": [
    {
     "name": "stdout",
     "output_type": "stream",
     "text": [
      "[ 0.  1.  2. 10.  3.]\n",
      "Max: 10.0\n",
      "Min: 0.0\n"
     ]
    }
   ],
   "source": [
    "print(df['children'].unique())\n",
    "print('Max:',df['children'].max())\n",
    "print('Min:',df['children'].min())"
   ]
  },
  {
   "cell_type": "code",
   "execution_count": 31,
   "metadata": {},
   "outputs": [
    {
     "name": "stdout",
     "output_type": "stream",
     "text": [
      "[ 0  1  2 10  9]\n",
      "Max: 10\n",
      "Min: 0\n"
     ]
    }
   ],
   "source": [
    "print(df['babies'].unique())\n",
    "print('Max:',df['babies'].max())\n",
    "print('Min:',df['babies'].min())"
   ]
  },
  {
   "cell_type": "code",
   "execution_count": 32,
   "metadata": {},
   "outputs": [
    {
     "data": {
      "text/plain": [
       "array(['BB', 'FB', 'HB', 'SC', 'Undefined'], dtype=object)"
      ]
     },
     "execution_count": 32,
     "metadata": {},
     "output_type": "execute_result"
    }
   ],
   "source": [
    "df['meal'].unique()"
   ]
  },
  {
   "cell_type": "code",
   "execution_count": 33,
   "metadata": {},
   "outputs": [
    {
     "data": {
      "text/plain": [
       "array(['Direct', 'Corporate', 'Online TA', 'Offline TA/TO',\n",
       "       'Complementary', 'Groups', 'Aviation'], dtype=object)"
      ]
     },
     "execution_count": 33,
     "metadata": {},
     "output_type": "execute_result"
    }
   ],
   "source": [
    "df['market_segment'].unique()"
   ]
  },
  {
   "cell_type": "code",
   "execution_count": 34,
   "metadata": {},
   "outputs": [
    {
     "data": {
      "text/plain": [
       "array(['Direct', 'Corporate', 'TA/TO', 'Undefined', 'GDS'], dtype=object)"
      ]
     },
     "execution_count": 34,
     "metadata": {},
     "output_type": "execute_result"
    }
   ],
   "source": [
    "df['distribution_channel'].unique()"
   ]
  },
  {
   "cell_type": "code",
   "execution_count": 35,
   "metadata": {},
   "outputs": [
    {
     "name": "stdout",
     "output_type": "stream",
     "text": [
      "[0 1]\n"
     ]
    }
   ],
   "source": [
    "print(df['is_repeated_guest'].unique())"
   ]
  },
  {
   "cell_type": "code",
   "execution_count": 36,
   "metadata": {},
   "outputs": [
    {
     "name": "stdout",
     "output_type": "stream",
     "text": [
      "[ 0  1  2  3 26 25 14  4 24 19  5 21  6 13 11]\n",
      "Max: 26\n",
      "Min: 0\n"
     ]
    }
   ],
   "source": [
    "print(df['previous_cancellations'].unique())\n",
    "print('Max:',df['previous_cancellations'].max())\n",
    "print('Min:',df['previous_cancellations'].min())"
   ]
  },
  {
   "cell_type": "code",
   "execution_count": 37,
   "metadata": {},
   "outputs": [
    {
     "name": "stdout",
     "output_type": "stream",
     "text": [
      "[ 0  1  2  3  5  4  6  7  8  9 10 11 12 13 14 15 21 24 25 27 28 30 16 17\n",
      " 18 19 20 22 23 26 29 31 32 33 34 35 36 37 38 39 40 41 42 43 44 45 46 47\n",
      " 48 49 50 51 52 53 54 55 56 57 58 59 60 61 62 63 64 65 66 67 68 69 70 71\n",
      " 72]\n",
      "Max: 72\n",
      "Min: 0\n"
     ]
    }
   ],
   "source": [
    "print(df['previous_bookings_not_canceled'].unique())\n",
    "print('Max:',df['previous_bookings_not_canceled'].max())\n",
    "print('Min:',df['previous_bookings_not_canceled'].min())"
   ]
  },
  {
   "cell_type": "code",
   "execution_count": 38,
   "metadata": {},
   "outputs": [
    {
     "data": {
      "text/plain": [
       "array(['C', 'A', 'D', 'E', 'G', 'F', 'H', 'L', 'B', 'P'], dtype=object)"
      ]
     },
     "execution_count": 38,
     "metadata": {},
     "output_type": "execute_result"
    }
   ],
   "source": [
    "df['reserved_room_type'].unique()"
   ]
  },
  {
   "cell_type": "code",
   "execution_count": 39,
   "metadata": {},
   "outputs": [
    {
     "data": {
      "text/plain": [
       "array(['C', 'A', 'D', 'E', 'G', 'F', 'I', 'B', 'H', 'L', 'K', 'P'],\n",
       "      dtype=object)"
      ]
     },
     "execution_count": 39,
     "metadata": {},
     "output_type": "execute_result"
    }
   ],
   "source": [
    "df['assigned_room_type'].unique()"
   ]
  },
  {
   "cell_type": "code",
   "execution_count": 40,
   "metadata": {},
   "outputs": [
    {
     "name": "stdout",
     "output_type": "stream",
     "text": [
      "[ 3  4  0  1  2  5 17  6  8  7 10 16  9 13 12 20 14 15 11 21 18]\n",
      "Max: 21\n",
      "Min: 0\n"
     ]
    }
   ],
   "source": [
    "print(df['booking_changes'].unique())\n",
    "print('Max:',df['booking_changes'].max())\n",
    "print('Min:',df['booking_changes'].min())"
   ]
  },
  {
   "cell_type": "code",
   "execution_count": 41,
   "metadata": {},
   "outputs": [
    {
     "data": {
      "text/plain": [
       "array(['No Deposit', 'Refundable', 'Non Refund'], dtype=object)"
      ]
     },
     "execution_count": 41,
     "metadata": {},
     "output_type": "execute_result"
    }
   ],
   "source": [
    "df['deposit_type'].unique()"
   ]
  },
  {
   "cell_type": "code",
   "execution_count": 42,
   "metadata": {},
   "outputs": [
    {
     "name": "stdout",
     "output_type": "stream",
     "text": [
      "[ -1. 304. 240. 303.  15. 241.   8. 250. 115.   5. 175. 134. 156. 243.\n",
      " 242.   3. 105.  40. 147. 306. 184.  96.   2. 127.  95. 146.   9. 177.\n",
      "   6. 143. 244. 149. 167. 300. 171. 305.  67. 196. 152. 142. 261. 104.\n",
      "  36.  26.  29. 258. 110.  71. 181.  88. 251. 275.  69. 248. 208. 256.\n",
      " 314. 126. 281. 273. 253. 185. 330. 334. 328. 326. 321. 324. 313.  38.\n",
      " 155.  68. 335. 308. 332.  94. 348. 310. 339. 375.  66. 327. 387. 298.\n",
      "  91. 245. 385. 257. 393. 168. 405. 249. 315.  75. 128. 307.  11. 436.\n",
      "   1. 201. 183. 223. 368. 336. 291. 464. 411. 481.  10. 154. 468. 410.\n",
      " 390. 440. 495. 492. 493. 434.  57. 531. 420. 483. 526. 472. 429.  16.\n",
      "  34. 252. 270.  47. 114. 301. 193. 182. 135. 350. 195. 352. 355. 159.\n",
      " 139. 363. 384. 360. 331. 367.  64.  78. 406. 163. 414. 333. 427. 431.\n",
      " 430. 426. 438. 433. 418. 441. 282. 432.  72. 450. 180. 454. 455.  59.\n",
      " 451. 254. 358. 469. 165. 467. 510. 337. 476. 502. 527. 479. 508. 535.\n",
      " 302. 497. 187.  13.   7.  27.  14.  22.  17.  28.  42.  20.  19.  45.\n",
      "  37.  61.  39.  21.  24.  41.  50.  30.  54.  52.  12.  44.  31.  83.\n",
      "  32.  63.  60.  55.  56.  89.  87. 118.  86.  85. 210. 214. 129. 179.\n",
      " 138. 174. 170. 153.  93. 151. 119.  35. 173.  58.  53. 133.  79. 235.\n",
      " 192. 191. 236. 162. 215. 157. 287. 132. 234.  98.  77. 103. 107. 262.\n",
      " 220. 121. 205. 378.  23. 296. 290. 229.  33. 286. 276. 425. 484. 323.\n",
      " 403. 219. 394. 509. 111. 423.   4.  70.  82.  81.  74.  92.  99.  90.\n",
      " 112. 117. 106. 148. 158. 144. 211. 213. 216. 232. 150. 267. 227. 247.\n",
      " 278. 280. 285. 289. 269. 295. 265. 288. 122. 294. 325. 341. 344. 346.\n",
      " 359. 283. 364. 370. 371.  25. 141. 391. 397. 416. 404. 299. 197.  73.\n",
      " 354. 444. 408. 461. 388. 453. 459. 474. 475. 480. 449.]\n",
      "Max: 535.0\n",
      "Min: -1.0\n"
     ]
    }
   ],
   "source": [
    "print(df['agent'].unique())\n",
    "print('Max:',df['agent'].max())\n",
    "print('Min:',df['agent'].min())"
   ]
  },
  {
   "cell_type": "code",
   "execution_count": 43,
   "metadata": {},
   "outputs": [
    {
     "name": "stdout",
     "output_type": "stream",
     "text": [
      "[ -1. 110. 113. 270. 178. 240. 154. 144. 307. 268.  59. 204. 312. 318.\n",
      "  94. 174. 274. 195. 223. 317. 281. 118.  53. 286.  12.  47. 324. 342.\n",
      " 373. 371.  86.  82. 218.  88.  31. 397. 392. 405. 331. 367.  20.  83.\n",
      " 416.  51. 395. 102.  34.  84. 360. 394. 382. 461. 478. 112. 486. 421.\n",
      "   9. 308. 135. 224. 504. 269. 356. 498. 390. 513. 203. 263. 477. 521.\n",
      " 169. 515. 445. 337. 251. 428. 292. 388. 130. 250. 355. 254. 543. 531.\n",
      " 528. 120.  81. 116. 530. 103.  62.  39.  16.  61.  92. 501. 291. 290.\n",
      " 192.  43. 465. 287. 297. 207. 437. 165. 329. 272.  28.  77. 482. 200.\n",
      "  42. 338. 108.  72. 246. 319. 146. 159. 380. 323. 511. 407. 325. 278.\n",
      "  80. 403. 399.  14. 137. 343. 346. 347. 349. 289. 351. 353.  54.  99.\n",
      " 358. 361. 362. 366. 372. 365. 277. 109. 377. 379.  22. 378. 330. 364.\n",
      " 401. 232. 255. 384. 167. 212. 514. 391. 400. 376. 402. 396. 302. 398.\n",
      " 225.   6. 370. 369. 409. 168. 104. 408. 413. 148.  10. 333. 419. 415.\n",
      " 424. 425. 423. 422. 435. 439. 442. 282. 448. 443. 454. 444.  52. 459.\n",
      " 458. 456. 460. 447. 470. 466. 484. 184. 485.  32. 487. 491. 490. 494.\n",
      " 193. 516. 496. 499.  29.  78. 520. 507. 506. 512. 126.  64. 242. 518.\n",
      " 523. 539. 534. 436. 525. 541.  40. 455. 410.  45.  38.  49.  48.  67.\n",
      "  68.  65.  91.  37.   8. 179. 209. 219. 221. 227. 153. 186. 253. 202.\n",
      " 216. 275. 233. 280. 309. 321.  93. 316.  85. 107. 350. 334. 348. 150.\n",
      "  73. 385. 418. 197. 450. 452. 115.  46.  76.  96. 100. 105. 101. 122.\n",
      "  11. 139. 142. 127. 143. 140. 149. 163. 160. 180. 238. 183. 222. 185.\n",
      " 217. 215. 213. 237. 230. 234.  35. 245. 158. 258. 259. 260. 411. 257.\n",
      " 271.  18. 106. 210. 273.  71. 284. 301. 305. 293. 264. 311. 304. 313.\n",
      " 288. 320. 314. 332. 341. 352. 243. 383. 368. 393. 132. 220. 412. 420.\n",
      " 426. 417. 429. 433. 446. 357. 479. 483. 489. 229. 481. 497. 451. 492.]\n",
      "Max: 543.0\n",
      "Min: -1.0\n"
     ]
    }
   ],
   "source": [
    "print(df['company'].unique())\n",
    "print('Max:',df['company'].max())\n",
    "print('Min:',df['company'].min())"
   ]
  },
  {
   "cell_type": "code",
   "execution_count": 44,
   "metadata": {},
   "outputs": [
    {
     "name": "stdout",
     "output_type": "stream",
     "text": [
      "[  0  50  47  65 122  75 101 150 125  14  60  34 100  22 121  61  39   5\n",
      "   1   8 107  43  52   2  11 142 116  13  44  97  83   4 113  18  20 185\n",
      "  93 109   6  37 105 154  64  99  38  48  33  77  21  80  59  40  58  89\n",
      "  53  49  69  87  91  57 111  79  98  85  63  15   3  41 224  31  56 187\n",
      " 176  71  55  96 236 259 207 215 160 120  30  32  27  62  24 108 147 379\n",
      "  70  35 178 330 223 174 162 391  68 193  10  76  16  28   9 165  17  25\n",
      "  46   7  84 175 183  23 117  12  54  26  73  45  19  42  72  81  92  74\n",
      " 167  36]\n",
      "Max: 391\n",
      "Min: 0\n"
     ]
    }
   ],
   "source": [
    "print(df['days_in_waiting_list'].unique())\n",
    "print('Max:',df['days_in_waiting_list'].max())\n",
    "print('Min:',df['days_in_waiting_list'].min())"
   ]
  },
  {
   "cell_type": "code",
   "execution_count": 45,
   "metadata": {},
   "outputs": [
    {
     "data": {
      "text/plain": [
       "array(['Transient', 'Contract', 'Transient-Party', 'Group'], dtype=object)"
      ]
     },
     "execution_count": 45,
     "metadata": {},
     "output_type": "execute_result"
    }
   ],
   "source": [
    "df['customer_type'].unique()"
   ]
  },
  {
   "cell_type": "code",
   "execution_count": 46,
   "metadata": {},
   "outputs": [
    {
     "name": "stdout",
     "output_type": "stream",
     "text": [
      "[  0.    75.    98.   ... 266.75 209.25 157.71]\n",
      "Max: 5400.0\n",
      "Min: -6.38\n"
     ]
    }
   ],
   "source": [
    "print(df['adr'].unique())\n",
    "print('Max:',df['adr'].max())\n",
    "print('Min:',df['adr'].min())"
   ]
  },
  {
   "cell_type": "code",
   "execution_count": 47,
   "metadata": {},
   "outputs": [
    {
     "data": {
      "text/plain": [
       "14969   -6.38\n",
       "2242     0.00\n",
       "76651    0.00\n",
       "76644    0.00\n",
       "76643    0.00\n",
       "76642    0.00\n",
       "28201    0.00\n",
       "76641    0.00\n",
       "2240     0.00\n",
       "0        0.00\n",
       "Name: adr, dtype: float64"
      ]
     },
     "execution_count": 47,
     "metadata": {},
     "output_type": "execute_result"
    }
   ],
   "source": [
    "adr_tail= df['adr'].sort_values().head(10)\n",
    "adr_tail"
   ]
  },
  {
   "cell_type": "code",
   "execution_count": 48,
   "metadata": {},
   "outputs": [
    {
     "name": "stdout",
     "output_type": "stream",
     "text": [
      "[0 1 2 8 3]\n",
      "Max: 8\n",
      "Min: 0\n"
     ]
    }
   ],
   "source": [
    "print(df['required_car_parking_spaces'].unique())\n",
    "print('Max:',df['required_car_parking_spaces'].max())\n",
    "print('Min:',df['required_car_parking_spaces'].min())"
   ]
  },
  {
   "cell_type": "code",
   "execution_count": 49,
   "metadata": {},
   "outputs": [
    {
     "name": "stdout",
     "output_type": "stream",
     "text": [
      "[0 1 3 2 4 5]\n",
      "Max: 5\n",
      "Min: 0\n"
     ]
    }
   ],
   "source": [
    "print(df['total_of_special_requests'].unique())\n",
    "print('Max:',df['total_of_special_requests'].max())\n",
    "print('Min:',df['total_of_special_requests'].min())"
   ]
  },
  {
   "cell_type": "code",
   "execution_count": 50,
   "metadata": {},
   "outputs": [
    {
     "data": {
      "text/plain": [
       "array(['Check-Out', 'Canceled', 'No-Show'], dtype=object)"
      ]
     },
     "execution_count": 50,
     "metadata": {},
     "output_type": "execute_result"
    }
   ],
   "source": [
    "df['reservation_status'].unique()"
   ]
  },
  {
   "cell_type": "code",
   "execution_count": 51,
   "metadata": {},
   "outputs": [
    {
     "data": {
      "text/plain": [
       "array(['2015-07-01', '2015-07-02', '2015-07-03', '2015-05-06',\n",
       "       '2015-04-22', '2015-06-23', '2015-07-05', '2015-07-06',\n",
       "       '2015-07-07', '2015-07-08', '2015-05-11', '2015-07-16',\n",
       "       '2015-05-29', '2015-05-19', '2015-06-19', '2015-05-23',\n",
       "       '2015-05-18', '2015-07-09', '2015-06-02', '2015-07-13',\n",
       "       '2015-07-04', '2015-06-29', '2015-06-16', '2015-06-18',\n",
       "       '2015-06-12', '2015-06-09', '2015-05-26', '2015-07-11',\n",
       "       '2015-07-12', '2015-07-17', '2015-04-15', '2015-05-13',\n",
       "       '2015-07-10', '2015-05-20', '2015-05-12', '2015-07-14',\n",
       "       '2015-06-17', '2015-05-01', '2015-03-30', '2015-07-15',\n",
       "       '2015-07-19', '2015-06-03', '2015-06-26', '2015-05-14',\n",
       "       '2015-07-20', '2015-05-07', '2015-05-28', '2015-04-13',\n",
       "       '2015-03-25', '2015-07-21', '2015-06-27', '2015-07-18',\n",
       "       '2015-07-23', '2015-06-08', '2015-06-22', '2015-06-24',\n",
       "       '2015-03-05', '2015-06-01', '2015-04-24', '2015-07-22',\n",
       "       '2015-05-27', '2015-04-06', '2015-04-11', '2015-07-25',\n",
       "       '2015-07-28', '2015-07-29', '2015-06-25', '2015-07-24',\n",
       "       '2015-06-05', '2015-06-30', '2015-06-13', '2015-06-11',\n",
       "       '2015-07-30', '2015-07-27', '2015-04-29', '2015-06-04',\n",
       "       '2015-07-26', '2015-08-01', '2015-08-02', '2015-06-15',\n",
       "       '2015-04-23', '2015-07-31', '2015-05-25', '2015-08-03',\n",
       "       '2015-04-17', '2015-08-04', '2015-08-06', '2015-05-15',\n",
       "       '2015-05-09', '2015-03-17', '2015-05-22', '2015-08-07',\n",
       "       '2015-04-04', '2015-08-05', '2015-08-08', '2015-08-10',\n",
       "       '2015-05-04', '2015-06-06', '2015-08-09', '2015-08-15',\n",
       "       '2015-08-11', '2015-03-28', '2015-08-14', '2015-08-12',\n",
       "       '2015-08-16', '2015-05-16', '2015-08-21', '2015-08-13',\n",
       "       '2015-08-17', '2015-04-20', '2015-08-18', '2015-08-23',\n",
       "       '2015-08-22', '2015-08-19', '2015-08-20', '2015-08-29',\n",
       "       '2015-03-31', '2015-05-30', '2015-08-25', '2015-04-14',\n",
       "       '2015-08-24', '2015-03-24', '2015-05-21', '2015-08-28',\n",
       "       '2015-08-26', '2015-08-27', '2015-08-30', '2015-08-31',\n",
       "       '2015-09-06', '2015-09-03', '2015-09-04', '2015-09-02',\n",
       "       '2015-09-01', '2015-09-05', '2015-06-20', '2015-09-07',\n",
       "       '2015-09-10', '2015-09-11', '2015-09-08', '2015-09-09',\n",
       "       '2015-09-13', '2015-09-15', '2015-04-10', '2015-01-02',\n",
       "       '2014-11-18', '2015-09-12', '2015-09-17', '2015-09-14',\n",
       "       '2015-04-07', '2015-09-19', '2015-09-16', '2015-09-20',\n",
       "       '2015-01-18', '2015-10-23', '2015-01-22', '2015-01-01',\n",
       "       '2015-09-22', '2015-09-24', '2015-09-18', '2015-09-21',\n",
       "       '2015-09-30', '2015-09-25', '2015-09-27', '2015-09-28',\n",
       "       '2015-10-12', '2015-09-29', '2015-09-23', '2015-10-01',\n",
       "       '2015-09-26', '2015-04-18', '2015-10-02', '2015-10-04',\n",
       "       '2015-10-08', '2015-10-03', '2015-10-07', '2015-10-09',\n",
       "       '2015-10-11', '2015-10-05', '2015-10-06', '2015-10-10',\n",
       "       '2015-10-14', '2015-10-15', '2015-10-18', '2015-10-13',\n",
       "       '2015-10-20', '2015-10-19', '2015-10-31', '2015-10-16',\n",
       "       '2015-10-21', '2015-10-22', '2015-10-17', '2015-10-24',\n",
       "       '2015-10-25', '2015-10-28', '2015-10-27', '2015-10-26',\n",
       "       '2015-10-30', '2015-11-05', '2015-10-29', '2015-11-03',\n",
       "       '2015-11-07', '2015-11-04', '2015-11-01', '2015-11-02',\n",
       "       '2015-11-17', '2015-11-06', '2015-11-10', '2015-11-08',\n",
       "       '2015-11-09', '2015-11-15', '2015-11-16', '2015-11-11',\n",
       "       '2015-11-12', '2015-11-14', '2015-11-13', '2015-11-18',\n",
       "       '2015-11-22', '2015-11-19', '2015-11-21', '2015-11-20',\n",
       "       '2015-11-24', '2015-11-25', '2015-11-23', '2015-11-28',\n",
       "       '2015-11-26', '2015-11-27', '2015-11-29', '2015-12-04',\n",
       "       '2015-12-01', '2015-12-06', '2015-12-08', '2015-12-02',\n",
       "       '2015-12-03', '2015-12-31', '2015-12-05', '2015-12-10',\n",
       "       '2015-12-17', '2015-11-30', '2015-12-12', '2015-12-07',\n",
       "       '2016-01-05', '2015-12-11', '2015-12-13', '2015-12-15',\n",
       "       '2015-12-16', '2015-12-19', '2015-12-18', '2015-12-26',\n",
       "       '2015-12-27', '2015-12-22', '2015-12-23', '2015-12-24',\n",
       "       '2015-12-29', '2015-12-28', '2015-12-20', '2015-12-30',\n",
       "       '2016-01-02', '2016-01-01', '2015-12-25', '2016-01-03',\n",
       "       '2016-01-04', '2016-01-11', '2016-01-07', '2015-12-21',\n",
       "       '2016-01-09', '2016-01-10', '2016-01-08', '2016-01-06',\n",
       "       '2016-01-12', '2016-01-13', '2016-01-23', '2016-02-09',\n",
       "       '2016-01-15', '2016-01-16', '2016-01-17', '2016-01-19',\n",
       "       '2016-01-18', '2016-01-21', '2016-01-24', '2016-01-22',\n",
       "       '2016-01-29', '2016-01-27', '2016-01-25', '2016-03-08',\n",
       "       '2016-01-26', '2016-01-20', '2016-01-30', '2016-02-01',\n",
       "       '2016-02-02', '2016-02-08', '2016-02-07', '2016-01-28',\n",
       "       '2016-02-05', '2016-02-03', '2016-02-13', '2016-02-10',\n",
       "       '2016-02-04', '2016-02-12', '2016-02-11', '2016-02-16',\n",
       "       '2016-02-14', '2016-02-15', '2016-02-20', '2016-02-06',\n",
       "       '2016-01-14', '2016-02-17', '2016-02-21', '2016-02-24',\n",
       "       '2016-02-25', '2016-02-19', '2016-02-18', '2016-02-26',\n",
       "       '2016-02-23', '2016-03-05', '2016-02-22', '2016-02-27',\n",
       "       '2016-03-03', '2016-03-24', '2016-03-04', '2016-02-29',\n",
       "       '2016-03-01', '2016-03-02', '2016-03-30', '2016-03-07',\n",
       "       '2016-03-14', '2016-03-21', '2016-03-09', '2016-03-12',\n",
       "       '2016-03-22', '2016-03-10', '2016-03-11', '2016-03-20',\n",
       "       '2016-03-15', '2016-03-17', '2016-03-16', '2016-03-19',\n",
       "       '2016-03-27', '2016-03-18', '2016-03-26', '2016-03-31',\n",
       "       '2016-03-28', '2016-03-29', '2016-04-01', '2016-03-23',\n",
       "       '2016-04-02', '2016-03-25', '2016-03-13', '2016-04-04',\n",
       "       '2016-04-03', '2016-04-05', '2016-04-08', '2016-04-06',\n",
       "       '2016-04-09', '2016-04-12', '2016-04-16', '2016-04-17',\n",
       "       '2016-04-27', '2016-04-14', '2016-04-18', '2016-04-21',\n",
       "       '2016-04-19', '2016-04-20', '2016-04-10', '2016-04-13',\n",
       "       '2016-04-11', '2016-04-07', '2016-04-15', '2016-04-22',\n",
       "       '2016-04-23', '2016-04-26', '2016-04-28', '2016-04-24',\n",
       "       '2016-04-25', '2016-04-29', '2016-04-30', '2016-05-01',\n",
       "       '2016-05-10', '2016-05-02', '2016-05-07', '2016-05-08',\n",
       "       '2016-05-12', '2016-05-04', '2016-05-06', '2016-05-03',\n",
       "       '2016-05-09', '2016-05-05', '2016-05-13', '2016-05-14',\n",
       "       '2016-05-18', '2016-05-19', '2016-05-15', '2016-05-16',\n",
       "       '2016-05-11', '2016-05-21', '2016-05-22', '2016-05-20',\n",
       "       '2016-05-24', '2016-05-25', '2016-05-26', '2016-05-23',\n",
       "       '2016-05-27', '2016-05-17', '2016-05-29', '2016-05-28',\n",
       "       '2016-05-30', '2016-05-31', '2016-06-01', '2016-06-03',\n",
       "       '2016-06-08', '2016-06-02', '2016-06-05', '2016-06-06',\n",
       "       '2016-06-13', '2016-06-07', '2016-06-10', '2016-06-11',\n",
       "       '2016-06-16', '2016-06-12', '2016-06-14', '2016-06-17',\n",
       "       '2016-06-04', '2016-06-18', '2016-06-21', '2016-06-09',\n",
       "       '2016-06-24', '2016-06-20', '2016-06-25', '2016-06-22',\n",
       "       '2016-06-26', '2016-06-23', '2016-07-01', '2016-06-15',\n",
       "       '2016-06-28', '2016-07-02', '2016-06-19', '2016-06-27',\n",
       "       '2016-07-04', '2016-06-30', '2016-07-05', '2016-07-08',\n",
       "       '2016-07-09', '2016-07-07', '2016-07-12', '2016-06-29',\n",
       "       '2016-07-10', '2016-07-15', '2016-07-03', '2016-07-16',\n",
       "       '2016-07-14', '2016-07-18', '2016-07-13', '2016-07-06',\n",
       "       '2016-07-20', '2016-07-21', '2016-07-23', '2016-07-19',\n",
       "       '2016-07-11', '2016-07-28', '2016-07-17', '2016-07-25',\n",
       "       '2016-07-22', '2016-07-29', '2016-08-03', '2016-08-02',\n",
       "       '2016-08-04', '2016-08-08', '2016-08-10', '2016-08-01',\n",
       "       '2016-08-06', '2016-03-06', '2016-08-05', '2016-07-26',\n",
       "       '2016-08-07', '2016-07-30', '2016-07-24', '2016-08-12',\n",
       "       '2016-07-27', '2016-08-13', '2016-08-18', '2016-08-16',\n",
       "       '2016-08-15', '2016-08-17', '2016-08-11', '2016-07-31',\n",
       "       '2016-08-19', '2016-09-01', '2016-08-23', '2016-08-26',\n",
       "       '2016-08-20', '2016-08-21', '2016-09-04', '2016-08-22',\n",
       "       '2016-08-27', '2016-08-25', '2016-08-09', '2016-09-05',\n",
       "       '2016-08-24', '2016-09-10', '2016-08-29', '2016-09-09',\n",
       "       '2016-08-30', '2016-09-13', '2016-08-31', '2016-09-14',\n",
       "       '2016-09-12', '2016-09-15', '2016-08-14', '2016-09-02',\n",
       "       '2016-09-08', '2016-09-19', '2016-09-16', '2016-09-07',\n",
       "       '2016-09-21', '2016-09-06', '2016-09-22', '2016-09-17',\n",
       "       '2016-09-20', '2016-09-03', '2016-09-26', '2016-09-23',\n",
       "       '2016-09-18', '2016-09-29', '2016-10-02', '2016-10-01',\n",
       "       '2016-09-27', '2016-09-25', '2016-10-05', '2016-09-11',\n",
       "       '2016-09-30', '2016-10-09', '2016-10-03', '2016-10-06',\n",
       "       '2016-10-11', '2016-09-24', '2016-10-13', '2016-09-28',\n",
       "       '2016-10-08', '2016-10-07', '2016-10-16', '2016-08-28',\n",
       "       '2016-10-17', '2016-10-18', '2016-10-10', '2016-10-04',\n",
       "       '2016-10-15', '2016-10-19', '2016-10-21', '2016-10-12',\n",
       "       '2016-10-24', '2016-10-26', '2016-10-23', '2016-10-20',\n",
       "       '2016-10-25', '2016-10-27', '2016-10-28', '2016-10-30',\n",
       "       '2016-10-29', '2016-11-01', '2016-11-04', '2016-10-14',\n",
       "       '2016-11-07', '2016-11-03', '2016-11-10', '2016-11-14',\n",
       "       '2016-11-02', '2016-10-31', '2016-11-11', '2016-11-08',\n",
       "       '2016-11-05', '2016-11-25', '2016-11-09', '2016-11-20',\n",
       "       '2016-10-22', '2016-11-22', '2016-11-16', '2016-11-23',\n",
       "       '2016-11-17', '2016-11-06', '2016-11-15', '2016-11-13',\n",
       "       '2016-11-12', '2016-11-21', '2016-11-27', '2016-11-19',\n",
       "       '2016-11-30', '2016-11-18', '2016-12-02', '2016-12-04',\n",
       "       '2016-11-29', '2016-12-07', '2016-11-28', '2016-12-03',\n",
       "       '2016-12-06', '2016-11-24', '2016-12-08', '2016-12-05',\n",
       "       '2016-12-10', '2016-12-13', '2016-12-14', '2016-12-16',\n",
       "       '2016-12-15', '2016-12-17', '2016-12-19', '2016-12-21',\n",
       "       '2016-12-20', '2016-12-22', '2016-12-23', '2016-12-24',\n",
       "       '2016-12-01', '2016-12-27', '2016-12-29', '2016-12-30',\n",
       "       '2016-12-12', '2017-01-02', '2016-12-11', '2017-01-03',\n",
       "       '2017-01-04', '2017-01-01', '2016-12-26', '2017-01-06',\n",
       "       '2016-12-28', '2016-12-18', '2017-01-10', '2017-01-11',\n",
       "       '2017-01-07', '2017-01-12', '2017-01-16', '2017-01-14',\n",
       "       '2017-01-13', '2017-01-05', '2017-01-17', '2017-01-20',\n",
       "       '2016-12-09', '2017-01-26', '2016-12-31', '2017-01-23',\n",
       "       '2017-01-27', '2017-01-28', '2017-01-19', '2017-01-25',\n",
       "       '2017-01-24', '2017-01-29', '2017-01-18', '2016-12-25',\n",
       "       '2017-01-15', '2017-01-21', '2017-02-01', '2017-02-02',\n",
       "       '2017-01-31', '2017-02-03', '2017-02-04', '2017-02-06',\n",
       "       '2017-02-07', '2017-02-08', '2017-01-30', '2017-02-09',\n",
       "       '2017-01-09', '2017-02-11', '2017-02-10', '2017-02-12',\n",
       "       '2017-02-13', '2017-02-14', '2017-02-16', '2017-02-17',\n",
       "       '2017-02-18', '2017-02-19', '2017-02-20', '2017-02-15',\n",
       "       '2017-02-21', '2017-02-22', '2017-02-26', '2017-02-23',\n",
       "       '2017-02-24', '2017-02-25', '2017-02-28', '2017-03-05',\n",
       "       '2017-02-27', '2017-03-03', '2017-03-06', '2017-03-02',\n",
       "       '2017-03-08', '2017-03-09', '2017-03-10', '2017-03-07',\n",
       "       '2017-03-12', '2017-03-13', '2017-03-14', '2017-03-01',\n",
       "       '2017-03-18', '2017-03-17', '2017-03-24', '2017-03-22',\n",
       "       '2017-03-26', '2017-03-27', '2017-03-11', '2017-03-28',\n",
       "       '2017-03-29', '2017-03-30', '2017-03-31', '2017-03-19',\n",
       "       '2017-01-22', '2017-04-02', '2017-03-20', '2017-04-03',\n",
       "       '2017-01-08', '2017-03-23', '2017-04-05', '2017-02-05',\n",
       "       '2017-04-04', '2017-03-15', '2017-04-07', '2017-03-25',\n",
       "       '2017-04-08', '2017-04-06', '2017-03-21', '2017-04-10',\n",
       "       '2017-04-01', '2017-04-11', '2017-04-13', '2017-04-15',\n",
       "       '2017-04-12', '2017-03-04', '2017-04-19', '2017-04-22',\n",
       "       '2017-04-20', '2017-05-02', '2017-04-09', '2017-04-23',\n",
       "       '2017-04-24', '2017-04-16', '2017-04-28', '2017-04-18',\n",
       "       '2017-04-26', '2017-04-25', '2017-04-17', '2017-04-21',\n",
       "       '2017-05-03', '2017-05-04', '2017-03-16', '2017-05-05',\n",
       "       '2017-04-29', '2017-04-14', '2017-05-08', '2017-04-27',\n",
       "       '2017-05-11', '2017-05-01', '2017-05-10', '2017-05-13',\n",
       "       '2017-05-06', '2017-05-14', '2017-05-16', '2017-04-30',\n",
       "       '2017-05-15', '2017-05-07', '2017-05-09', '2017-05-17',\n",
       "       '2017-05-21', '2017-05-12', '2017-05-22', '2017-05-24',\n",
       "       '2017-05-23', '2017-05-25', '2017-05-26', '2017-05-28',\n",
       "       '2017-05-27', '2017-05-29', '2017-05-19', '2017-05-31',\n",
       "       '2017-05-20', '2017-06-01', '2017-05-30', '2017-06-02',\n",
       "       '2016-11-26', '2017-06-04', '2017-06-05', '2017-06-06',\n",
       "       '2017-06-07', '2017-05-18', '2017-06-09', '2017-06-10',\n",
       "       '2017-06-11', '2017-06-12', '2017-06-14', '2017-06-08',\n",
       "       '2017-06-16', '2017-06-13', '2017-06-03', '2017-06-24',\n",
       "       '2017-06-20', '2017-06-19', '2017-06-21', '2017-06-26',\n",
       "       '2017-06-27', '2017-06-22', '2017-06-28', '2017-06-15',\n",
       "       '2017-06-29', '2017-06-30', '2017-06-18', '2017-07-04',\n",
       "       '2017-07-08', '2017-07-05', '2017-07-03', '2017-07-07',\n",
       "       '2017-07-01', '2017-07-06', '2017-07-11', '2017-07-12',\n",
       "       '2017-06-23', '2017-07-13', '2017-07-02', '2017-07-10',\n",
       "       '2017-07-14', '2017-07-15', '2017-07-16', '2017-07-18',\n",
       "       '2017-07-17', '2017-07-19', '2017-07-20', '2017-07-21',\n",
       "       '2017-06-25', '2017-06-17', '2017-07-24', '2017-07-26',\n",
       "       '2017-07-09', '2017-07-27', '2017-07-28', '2017-07-31',\n",
       "       '2017-07-29', '2017-07-22', '2017-08-02', '2017-08-01',\n",
       "       '2017-08-03', '2017-08-04', '2017-07-25', '2017-07-23',\n",
       "       '2017-08-09', '2017-08-10', '2017-07-30', '2017-08-07',\n",
       "       '2017-08-13', '2017-08-05', '2017-08-14', '2017-08-08',\n",
       "       '2017-08-16', '2017-08-17', '2017-08-15', '2017-08-18',\n",
       "       '2017-08-20', '2017-08-22', '2017-08-06', '2017-08-25',\n",
       "       '2017-08-26', '2017-08-23', '2017-08-11', '2017-08-27',\n",
       "       '2017-08-21', '2017-08-29', '2017-08-31', '2017-08-12',\n",
       "       '2017-08-19', '2017-09-01', '2017-08-28', '2015-04-03',\n",
       "       '2015-01-21', '2015-01-28', '2015-01-29', '2015-01-30',\n",
       "       '2015-02-02', '2015-02-05', '2015-02-06', '2015-02-09',\n",
       "       '2015-02-10', '2015-02-11', '2015-02-12', '2015-02-19',\n",
       "       '2015-02-20', '2015-02-23', '2015-02-24', '2015-02-25',\n",
       "       '2015-02-26', '2015-02-27', '2015-03-03', '2015-03-04',\n",
       "       '2015-03-06', '2015-03-09', '2015-03-11', '2015-03-12',\n",
       "       '2015-03-18', '2015-04-02', '2015-06-14', '2015-04-08',\n",
       "       '2015-04-16', '2015-04-25', '2015-04-28', '2015-05-08',\n",
       "       '2016-01-31', '2017-09-06', '2016-02-28', '2015-12-09',\n",
       "       '2015-12-14', '2017-09-09', '2017-09-02', '2017-08-24',\n",
       "       '2017-08-30', '2017-09-03', '2017-09-04', '2017-09-05',\n",
       "       '2017-09-07', '2017-09-08', '2017-09-10', '2017-09-12',\n",
       "       '2017-09-14', '2015-04-30', '2015-04-21', '2015-04-05',\n",
       "       '2015-03-13', '2015-05-05', '2015-03-29', '2015-06-10',\n",
       "       '2015-04-27', '2014-10-17', '2015-01-20', '2015-02-17',\n",
       "       '2015-03-10', '2015-03-23'], dtype=object)"
      ]
     },
     "execution_count": 51,
     "metadata": {},
     "output_type": "execute_result"
    }
   ],
   "source": [
    "df['reservation_status_date'].unique()"
   ]
  },
  {
   "cell_type": "code",
   "execution_count": 52,
   "metadata": {},
   "outputs": [],
   "source": [
    "df[\"hotel\"] = df[\"hotel\"].astype(\"category\")\n",
    "df[\"is_canceled\"] = df[\"is_canceled\"].astype(\"uint8\")\n",
    "df[\"lead_time\"] = df[\"lead_time\"].astype(\"uint16\")\n",
    "df[\"arrival_date_year\"] = df[\"arrival_date_year\"].astype(\"uint16\")\n",
    "df[\"arrival_date_month\"] = df[\"arrival_date_month\"].astype(\"category\")\n",
    "df[\"arrival_date_week_number\"] = df[\"arrival_date_week_number\"].astype(\"uint8\")\n",
    "df[\"arrival_date_day_of_month\"] = df[\"arrival_date_day_of_month\"].astype(\"uint8\")\n",
    "df[\"stays_in_weekend_nights\"] = df[\"stays_in_weekend_nights\"].astype(\"uint8\")\n",
    "df[\"stays_in_week_nights\"] = df[\"stays_in_week_nights\"].astype(\"uint8\")\n",
    "df[\"adults\"] = df[\"adults\"].astype(\"uint8\")\n",
    "df[\"children\"] = df[\"children\"].astype(\"uint8\")\n",
    "df[\"babies\"] = df[\"babies\"].astype(\"uint8\")\n",
    "df[\"meal\"] = df[\"meal\"].astype(\"category\")\n",
    "df[\"market_segment\"] = df[\"market_segment\"].astype(\"category\")\n",
    "df[\"distribution_channel\"] = df[\"distribution_channel\"].astype(\"category\")\n",
    "df[\"is_repeated_guest\"] = df[\"is_repeated_guest\"].astype(\"uint8\")\n",
    "df[\"previous_cancellations\"] = df[\"previous_cancellations\"].astype(\"uint8\")\n",
    "df[\"previous_bookings_not_canceled\"] = df[\"previous_bookings_not_canceled\"].astype(\"uint8\")\n",
    "df[\"reserved_room_type\"] = df[\"reserved_room_type\"].astype(\"category\")\n",
    "df[\"assigned_room_type\"] = df[\"assigned_room_type\"].astype(\"category\")\n",
    "df[\"booking_changes\"] = df[\"booking_changes\"].astype(\"uint8\")\n",
    "df[\"deposit_type\"] = df[\"deposit_type\"].astype(\"category\")\n",
    "df[\"agent\"] = df[\"agent\"].astype(\"int16\")\n",
    "df[\"company\"] = df[\"company\"].astype(\"int16\")\n",
    "df[\"days_in_waiting_list\"] = df[\"days_in_waiting_list\"].astype(\"uint16\")\n",
    "df[\"customer_type\"] = df[\"customer_type\"].astype(\"category\")\n",
    "df[\"adr\"] = df[\"adr\"].astype(\"float64\")\n",
    "df[\"required_car_parking_spaces\"] = df[\"required_car_parking_spaces\"].astype(\"uint8\")\n",
    "df[\"total_of_special_requests\"] = df[\"total_of_special_requests\"].astype(\"uint8\")\n",
    "df[\"reservation_status\"] = df[\"reservation_status\"].astype(\"category\")\n",
    "df['reservation_status_date'] = pd.to_datetime(df['reservation_status_date'])"
   ]
  },
  {
   "cell_type": "code",
   "execution_count": 53,
   "metadata": {},
   "outputs": [
    {
     "name": "stdout",
     "output_type": "stream",
     "text": [
      "<class 'pandas.core.frame.DataFrame'>\n",
      "Index: 118898 entries, 0 to 119389\n",
      "Data columns (total 16 columns):\n",
      " #   Column                     Non-Null Count   Dtype   \n",
      "---  ------                     --------------   -----   \n",
      " 0   hotel                      118898 non-null  category\n",
      " 1   is_canceled                118898 non-null  uint8   \n",
      " 2   lead_time                  118898 non-null  uint16  \n",
      " 3   arrival_date_year          118898 non-null  uint16  \n",
      " 4   arrival_date_month         118898 non-null  category\n",
      " 5   arrival_date_week_number   118898 non-null  uint8   \n",
      " 6   arrival_date_day_of_month  118898 non-null  uint8   \n",
      " 7   stays_in_weekend_nights    118898 non-null  uint8   \n",
      " 8   stays_in_week_nights       118898 non-null  uint8   \n",
      " 9   adults                     118898 non-null  uint8   \n",
      " 10  children                   118898 non-null  uint8   \n",
      " 11  babies                     118898 non-null  uint8   \n",
      " 12  meal                       118898 non-null  category\n",
      " 13  country                    118898 non-null  object  \n",
      " 14  market_segment             118898 non-null  category\n",
      " 15  distribution_channel       118898 non-null  category\n",
      "dtypes: category(5), object(1), uint16(2), uint8(8)\n",
      "memory usage: 3.7+ MB\n"
     ]
    }
   ],
   "source": [
    "df.iloc[:,0:16].info()"
   ]
  },
  {
   "cell_type": "code",
   "execution_count": 54,
   "metadata": {},
   "outputs": [
    {
     "name": "stdout",
     "output_type": "stream",
     "text": [
      "<class 'pandas.core.frame.DataFrame'>\n",
      "Index: 118898 entries, 0 to 119389\n",
      "Data columns (total 17 columns):\n",
      " #   Column                          Non-Null Count   Dtype         \n",
      "---  ------                          --------------   -----         \n",
      " 0   distribution_channel            118898 non-null  category      \n",
      " 1   is_repeated_guest               118898 non-null  uint8         \n",
      " 2   previous_cancellations          118898 non-null  uint8         \n",
      " 3   previous_bookings_not_canceled  118898 non-null  uint8         \n",
      " 4   reserved_room_type              118898 non-null  category      \n",
      " 5   assigned_room_type              118898 non-null  category      \n",
      " 6   booking_changes                 118898 non-null  uint8         \n",
      " 7   deposit_type                    118898 non-null  category      \n",
      " 8   agent                           118898 non-null  int16         \n",
      " 9   company                         118898 non-null  int16         \n",
      " 10  days_in_waiting_list            118898 non-null  uint16        \n",
      " 11  customer_type                   118898 non-null  category      \n",
      " 12  adr                             118898 non-null  float64       \n",
      " 13  required_car_parking_spaces     118898 non-null  uint8         \n",
      " 14  total_of_special_requests       118898 non-null  uint8         \n",
      " 15  reservation_status              118898 non-null  category      \n",
      " 16  reservation_status_date         118898 non-null  datetime64[ns]\n",
      "dtypes: category(6), datetime64[ns](1), float64(1), int16(2), uint16(1), uint8(6)\n",
      "memory usage: 4.8 MB\n"
     ]
    }
   ],
   "source": [
    "df.iloc[:,15:32].info()"
   ]
  },
  {
   "cell_type": "code",
   "execution_count": 55,
   "metadata": {},
   "outputs": [
    {
     "name": "stdout",
     "output_type": "stream",
     "text": [
      "<class 'pandas.core.frame.DataFrame'>\n",
      "Index: 118898 entries, 0 to 119389\n",
      "Data columns (total 32 columns):\n",
      " #   Column                          Non-Null Count   Dtype         \n",
      "---  ------                          --------------   -----         \n",
      " 0   hotel                           118898 non-null  category      \n",
      " 1   is_canceled                     118898 non-null  uint8         \n",
      " 2   lead_time                       118898 non-null  uint16        \n",
      " 3   arrival_date_year               118898 non-null  uint16        \n",
      " 4   arrival_date_month              118898 non-null  category      \n",
      " 5   arrival_date_week_number        118898 non-null  uint8         \n",
      " 6   arrival_date_day_of_month       118898 non-null  uint8         \n",
      " 7   stays_in_weekend_nights         118898 non-null  uint8         \n",
      " 8   stays_in_week_nights            118898 non-null  uint8         \n",
      " 9   adults                          118898 non-null  uint8         \n",
      " 10  children                        118898 non-null  uint8         \n",
      " 11  babies                          118898 non-null  uint8         \n",
      " 12  meal                            118898 non-null  category      \n",
      " 13  country                         118898 non-null  object        \n",
      " 14  market_segment                  118898 non-null  category      \n",
      " 15  distribution_channel            118898 non-null  category      \n",
      " 16  is_repeated_guest               118898 non-null  uint8         \n",
      " 17  previous_cancellations          118898 non-null  uint8         \n",
      " 18  previous_bookings_not_canceled  118898 non-null  uint8         \n",
      " 19  reserved_room_type              118898 non-null  category      \n",
      " 20  assigned_room_type              118898 non-null  category      \n",
      " 21  booking_changes                 118898 non-null  uint8         \n",
      " 22  deposit_type                    118898 non-null  category      \n",
      " 23  agent                           118898 non-null  int16         \n",
      " 24  company                         118898 non-null  int16         \n",
      " 25  days_in_waiting_list            118898 non-null  uint16        \n",
      " 26  customer_type                   118898 non-null  category      \n",
      " 27  adr                             118898 non-null  float64       \n",
      " 28  required_car_parking_spaces     118898 non-null  uint8         \n",
      " 29  total_of_special_requests       118898 non-null  uint8         \n",
      " 30  reservation_status              118898 non-null  category      \n",
      " 31  reservation_status_date         118898 non-null  datetime64[ns]\n",
      "dtypes: category(10), datetime64[ns](1), float64(1), int16(2), object(1), uint16(3), uint8(14)\n",
      "memory usage: 7.5+ MB\n"
     ]
    }
   ],
   "source": [
    "df.info()"
   ]
  },
  {
   "attachments": {},
   "cell_type": "markdown",
   "metadata": {},
   "source": [
    "### 3. Check for the duplicate values and remove them from data "
   ]
  },
  {
   "cell_type": "code",
   "execution_count": 56,
   "metadata": {},
   "outputs": [
    {
     "data": {
      "text/plain": [
       "31958"
      ]
     },
     "execution_count": 56,
     "metadata": {},
     "output_type": "execute_result"
    }
   ],
   "source": [
    "df.duplicated().sum()"
   ]
  },
  {
   "cell_type": "code",
   "execution_count": 57,
   "metadata": {},
   "outputs": [],
   "source": [
    "df = df.drop_duplicates()"
   ]
  },
  {
   "cell_type": "code",
   "execution_count": 58,
   "metadata": {},
   "outputs": [
    {
     "name": "stdout",
     "output_type": "stream",
     "text": [
      "<class 'pandas.core.frame.DataFrame'>\n",
      "Index: 86940 entries, 0 to 119389\n",
      "Data columns (total 32 columns):\n",
      " #   Column                          Non-Null Count  Dtype         \n",
      "---  ------                          --------------  -----         \n",
      " 0   hotel                           86940 non-null  category      \n",
      " 1   is_canceled                     86940 non-null  uint8         \n",
      " 2   lead_time                       86940 non-null  uint16        \n",
      " 3   arrival_date_year               86940 non-null  uint16        \n",
      " 4   arrival_date_month              86940 non-null  category      \n",
      " 5   arrival_date_week_number        86940 non-null  uint8         \n",
      " 6   arrival_date_day_of_month       86940 non-null  uint8         \n",
      " 7   stays_in_weekend_nights         86940 non-null  uint8         \n",
      " 8   stays_in_week_nights            86940 non-null  uint8         \n",
      " 9   adults                          86940 non-null  uint8         \n",
      " 10  children                        86940 non-null  uint8         \n",
      " 11  babies                          86940 non-null  uint8         \n",
      " 12  meal                            86940 non-null  category      \n",
      " 13  country                         86940 non-null  object        \n",
      " 14  market_segment                  86940 non-null  category      \n",
      " 15  distribution_channel            86940 non-null  category      \n",
      " 16  is_repeated_guest               86940 non-null  uint8         \n",
      " 17  previous_cancellations          86940 non-null  uint8         \n",
      " 18  previous_bookings_not_canceled  86940 non-null  uint8         \n",
      " 19  reserved_room_type              86940 non-null  category      \n",
      " 20  assigned_room_type              86940 non-null  category      \n",
      " 21  booking_changes                 86940 non-null  uint8         \n",
      " 22  deposit_type                    86940 non-null  category      \n",
      " 23  agent                           86940 non-null  int16         \n",
      " 24  company                         86940 non-null  int16         \n",
      " 25  days_in_waiting_list            86940 non-null  uint16        \n",
      " 26  customer_type                   86940 non-null  category      \n",
      " 27  adr                             86940 non-null  float64       \n",
      " 28  required_car_parking_spaces     86940 non-null  uint8         \n",
      " 29  total_of_special_requests       86940 non-null  uint8         \n",
      " 30  reservation_status              86940 non-null  category      \n",
      " 31  reservation_status_date         86940 non-null  datetime64[ns]\n",
      "dtypes: category(10), datetime64[ns](1), float64(1), int16(2), object(1), uint16(3), uint8(14)\n",
      "memory usage: 5.5+ MB\n"
     ]
    }
   ],
   "source": [
    "df.info()"
   ]
  },
  {
   "attachments": {},
   "cell_type": "markdown",
   "metadata": {},
   "source": [
    "### 4. According to the columns and their meanings, do any other preprocessings necessary for further analysis."
   ]
  },
  {
   "cell_type": "code",
   "execution_count": 59,
   "metadata": {},
   "outputs": [],
   "source": [
    "month_dict = {\n",
    "    'January': 1, 'February': 2, 'March': 3, 'April': 4, 'May': 5, 'June': 6,\n",
    "    'July': 7, 'August': 8, 'September': 9, 'October': 10, 'November': 11, 'December': 12\n",
    "}\n",
    "\n",
    "df['arrival_date_month'] = df['arrival_date_month'].map(month_dict)\n",
    "\n",
    "df['arrival_datetime'] = pd.to_datetime({\n",
    "    'year': df['arrival_date_year'],\n",
    "    'month': df['arrival_date_month'],\n",
    "    'day': df['arrival_date_day_of_month']})\n",
    "\n",
    "df[\"arrival_date_month\"] = df[\"arrival_date_month\"].astype(\"uint8\")"
   ]
  },
  {
   "cell_type": "code",
   "execution_count": 60,
   "metadata": {},
   "outputs": [
    {
     "name": "stdout",
     "output_type": "stream",
     "text": [
      "<class 'pandas.core.frame.DataFrame'>\n",
      "Index: 86940 entries, 0 to 119389\n",
      "Data columns (total 33 columns):\n",
      " #   Column                          Non-Null Count  Dtype         \n",
      "---  ------                          --------------  -----         \n",
      " 0   hotel                           86940 non-null  category      \n",
      " 1   is_canceled                     86940 non-null  uint8         \n",
      " 2   lead_time                       86940 non-null  uint16        \n",
      " 3   arrival_date_year               86940 non-null  uint16        \n",
      " 4   arrival_date_month              86940 non-null  uint8         \n",
      " 5   arrival_date_week_number        86940 non-null  uint8         \n",
      " 6   arrival_date_day_of_month       86940 non-null  uint8         \n",
      " 7   stays_in_weekend_nights         86940 non-null  uint8         \n",
      " 8   stays_in_week_nights            86940 non-null  uint8         \n",
      " 9   adults                          86940 non-null  uint8         \n",
      " 10  children                        86940 non-null  uint8         \n",
      " 11  babies                          86940 non-null  uint8         \n",
      " 12  meal                            86940 non-null  category      \n",
      " 13  country                         86940 non-null  object        \n",
      " 14  market_segment                  86940 non-null  category      \n",
      " 15  distribution_channel            86940 non-null  category      \n",
      " 16  is_repeated_guest               86940 non-null  uint8         \n",
      " 17  previous_cancellations          86940 non-null  uint8         \n",
      " 18  previous_bookings_not_canceled  86940 non-null  uint8         \n",
      " 19  reserved_room_type              86940 non-null  category      \n",
      " 20  assigned_room_type              86940 non-null  category      \n",
      " 21  booking_changes                 86940 non-null  uint8         \n",
      " 22  deposit_type                    86940 non-null  category      \n",
      " 23  agent                           86940 non-null  int16         \n",
      " 24  company                         86940 non-null  int16         \n",
      " 25  days_in_waiting_list            86940 non-null  uint16        \n",
      " 26  customer_type                   86940 non-null  category      \n",
      " 27  adr                             86940 non-null  float64       \n",
      " 28  required_car_parking_spaces     86940 non-null  uint8         \n",
      " 29  total_of_special_requests       86940 non-null  uint8         \n",
      " 30  reservation_status              86940 non-null  category      \n",
      " 31  reservation_status_date         86940 non-null  datetime64[ns]\n",
      " 32  arrival_datetime                86940 non-null  datetime64[ns]\n",
      "dtypes: category(9), datetime64[ns](2), float64(1), int16(2), object(1), uint16(3), uint8(15)\n",
      "memory usage: 6.1+ MB\n"
     ]
    }
   ],
   "source": [
    "df.info()"
   ]
  },
  {
   "cell_type": "code",
   "execution_count": 61,
   "metadata": {},
   "outputs": [
    {
     "data": {
      "text/html": [
       "<div>\n",
       "<style scoped>\n",
       "    .dataframe tbody tr th:only-of-type {\n",
       "        vertical-align: middle;\n",
       "    }\n",
       "\n",
       "    .dataframe tbody tr th {\n",
       "        vertical-align: top;\n",
       "    }\n",
       "\n",
       "    .dataframe thead th {\n",
       "        text-align: right;\n",
       "    }\n",
       "</style>\n",
       "<table border=\"1\" class=\"dataframe\">\n",
       "  <thead>\n",
       "    <tr style=\"text-align: right;\">\n",
       "      <th></th>\n",
       "      <th>hotel</th>\n",
       "      <th>is_canceled</th>\n",
       "      <th>lead_time</th>\n",
       "      <th>arrival_date_year</th>\n",
       "      <th>arrival_date_month</th>\n",
       "      <th>arrival_date_week_number</th>\n",
       "      <th>arrival_date_day_of_month</th>\n",
       "      <th>stays_in_weekend_nights</th>\n",
       "      <th>stays_in_week_nights</th>\n",
       "      <th>adults</th>\n",
       "      <th>...</th>\n",
       "      <th>agent</th>\n",
       "      <th>company</th>\n",
       "      <th>days_in_waiting_list</th>\n",
       "      <th>customer_type</th>\n",
       "      <th>adr</th>\n",
       "      <th>required_car_parking_spaces</th>\n",
       "      <th>total_of_special_requests</th>\n",
       "      <th>reservation_status</th>\n",
       "      <th>reservation_status_date</th>\n",
       "      <th>arrival_datetime</th>\n",
       "    </tr>\n",
       "  </thead>\n",
       "  <tbody>\n",
       "    <tr>\n",
       "      <th>108981</th>\n",
       "      <td>City Hotel</td>\n",
       "      <td>0</td>\n",
       "      <td>66</td>\n",
       "      <td>2017</td>\n",
       "      <td>3</td>\n",
       "      <td>13</td>\n",
       "      <td>31</td>\n",
       "      <td>2</td>\n",
       "      <td>3</td>\n",
       "      <td>2</td>\n",
       "      <td>...</td>\n",
       "      <td>8</td>\n",
       "      <td>-1</td>\n",
       "      <td>0</td>\n",
       "      <td>Transient</td>\n",
       "      <td>122.04</td>\n",
       "      <td>0</td>\n",
       "      <td>0</td>\n",
       "      <td>Check-Out</td>\n",
       "      <td>2017-04-05</td>\n",
       "      <td>2017-03-31</td>\n",
       "    </tr>\n",
       "    <tr>\n",
       "      <th>26581</th>\n",
       "      <td>Resort Hotel</td>\n",
       "      <td>0</td>\n",
       "      <td>237</td>\n",
       "      <td>2016</td>\n",
       "      <td>8</td>\n",
       "      <td>32</td>\n",
       "      <td>1</td>\n",
       "      <td>1</td>\n",
       "      <td>3</td>\n",
       "      <td>2</td>\n",
       "      <td>...</td>\n",
       "      <td>250</td>\n",
       "      <td>-1</td>\n",
       "      <td>0</td>\n",
       "      <td>Transient</td>\n",
       "      <td>210.00</td>\n",
       "      <td>0</td>\n",
       "      <td>0</td>\n",
       "      <td>Check-Out</td>\n",
       "      <td>2016-08-05</td>\n",
       "      <td>2016-08-01</td>\n",
       "    </tr>\n",
       "    <tr>\n",
       "      <th>47147</th>\n",
       "      <td>City Hotel</td>\n",
       "      <td>0</td>\n",
       "      <td>39</td>\n",
       "      <td>2016</td>\n",
       "      <td>2</td>\n",
       "      <td>7</td>\n",
       "      <td>10</td>\n",
       "      <td>0</td>\n",
       "      <td>3</td>\n",
       "      <td>2</td>\n",
       "      <td>...</td>\n",
       "      <td>7</td>\n",
       "      <td>-1</td>\n",
       "      <td>0</td>\n",
       "      <td>Transient</td>\n",
       "      <td>57.28</td>\n",
       "      <td>0</td>\n",
       "      <td>1</td>\n",
       "      <td>Check-Out</td>\n",
       "      <td>2016-02-13</td>\n",
       "      <td>2016-02-10</td>\n",
       "    </tr>\n",
       "    <tr>\n",
       "      <th>41671</th>\n",
       "      <td>City Hotel</td>\n",
       "      <td>1</td>\n",
       "      <td>10</td>\n",
       "      <td>2015</td>\n",
       "      <td>8</td>\n",
       "      <td>34</td>\n",
       "      <td>21</td>\n",
       "      <td>1</td>\n",
       "      <td>2</td>\n",
       "      <td>2</td>\n",
       "      <td>...</td>\n",
       "      <td>9</td>\n",
       "      <td>-1</td>\n",
       "      <td>0</td>\n",
       "      <td>Contract</td>\n",
       "      <td>153.00</td>\n",
       "      <td>0</td>\n",
       "      <td>2</td>\n",
       "      <td>Canceled</td>\n",
       "      <td>2015-08-17</td>\n",
       "      <td>2015-08-21</td>\n",
       "    </tr>\n",
       "    <tr>\n",
       "      <th>114964</th>\n",
       "      <td>City Hotel</td>\n",
       "      <td>0</td>\n",
       "      <td>26</td>\n",
       "      <td>2017</td>\n",
       "      <td>6</td>\n",
       "      <td>26</td>\n",
       "      <td>27</td>\n",
       "      <td>0</td>\n",
       "      <td>2</td>\n",
       "      <td>1</td>\n",
       "      <td>...</td>\n",
       "      <td>15</td>\n",
       "      <td>-1</td>\n",
       "      <td>0</td>\n",
       "      <td>Transient</td>\n",
       "      <td>87.60</td>\n",
       "      <td>0</td>\n",
       "      <td>0</td>\n",
       "      <td>Check-Out</td>\n",
       "      <td>2017-06-29</td>\n",
       "      <td>2017-06-27</td>\n",
       "    </tr>\n",
       "  </tbody>\n",
       "</table>\n",
       "<p>5 rows × 33 columns</p>\n",
       "</div>"
      ],
      "text/plain": [
       "               hotel  is_canceled  lead_time  arrival_date_year  \\\n",
       "108981    City Hotel            0         66               2017   \n",
       "26581   Resort Hotel            0        237               2016   \n",
       "47147     City Hotel            0         39               2016   \n",
       "41671     City Hotel            1         10               2015   \n",
       "114964    City Hotel            0         26               2017   \n",
       "\n",
       "        arrival_date_month  arrival_date_week_number  \\\n",
       "108981                   3                        13   \n",
       "26581                    8                        32   \n",
       "47147                    2                         7   \n",
       "41671                    8                        34   \n",
       "114964                   6                        26   \n",
       "\n",
       "        arrival_date_day_of_month  stays_in_weekend_nights  \\\n",
       "108981                         31                        2   \n",
       "26581                           1                        1   \n",
       "47147                          10                        0   \n",
       "41671                          21                        1   \n",
       "114964                         27                        0   \n",
       "\n",
       "        stays_in_week_nights  adults  ...  agent  company  \\\n",
       "108981                     3       2  ...      8       -1   \n",
       "26581                      3       2  ...    250       -1   \n",
       "47147                      3       2  ...      7       -1   \n",
       "41671                      2       2  ...      9       -1   \n",
       "114964                     2       1  ...     15       -1   \n",
       "\n",
       "       days_in_waiting_list customer_type     adr required_car_parking_spaces  \\\n",
       "108981                    0     Transient  122.04                           0   \n",
       "26581                     0     Transient  210.00                           0   \n",
       "47147                     0     Transient   57.28                           0   \n",
       "41671                     0      Contract  153.00                           0   \n",
       "114964                    0     Transient   87.60                           0   \n",
       "\n",
       "        total_of_special_requests  reservation_status  \\\n",
       "108981                          0           Check-Out   \n",
       "26581                           0           Check-Out   \n",
       "47147                           1           Check-Out   \n",
       "41671                           2            Canceled   \n",
       "114964                          0           Check-Out   \n",
       "\n",
       "        reservation_status_date arrival_datetime  \n",
       "108981               2017-04-05       2017-03-31  \n",
       "26581                2016-08-05       2016-08-01  \n",
       "47147                2016-02-13       2016-02-10  \n",
       "41671                2015-08-17       2015-08-21  \n",
       "114964               2017-06-29       2017-06-27  \n",
       "\n",
       "[5 rows x 33 columns]"
      ]
     },
     "execution_count": 61,
     "metadata": {},
     "output_type": "execute_result"
    }
   ],
   "source": [
    "df.sample(5)"
   ]
  },
  {
   "attachments": {},
   "cell_type": "markdown",
   "metadata": {},
   "source": [
    "## Analysis: "
   ]
  },
  {
   "attachments": {},
   "cell_type": "markdown",
   "metadata": {},
   "source": [
    "### 1. There are two types of hotels in the dataset, which type of hotels booked most?"
   ]
  },
  {
   "cell_type": "code",
   "execution_count": 62,
   "metadata": {},
   "outputs": [
    {
     "data": {
      "text/plain": [
       "['Resort Hotel', 'City Hotel']\n",
       "Categories (2, object): ['City Hotel', 'Resort Hotel']"
      ]
     },
     "execution_count": 62,
     "metadata": {},
     "output_type": "execute_result"
    }
   ],
   "source": [
    "df[\"hotel\"].unique()"
   ]
  },
  {
   "cell_type": "code",
   "execution_count": 63,
   "metadata": {},
   "outputs": [
    {
     "data": {
      "image/png": "[encoded data removed]",
      "text/plain": [
       "<Figure size 1000x800 with 1 Axes>"
      ]
     },
     "metadata": {},
     "output_type": "display_data"
    }
   ],
   "source": [
    "hotel_type_counts = df['hotel'].value_counts()\n",
    "fig, ax = plt.subplots(figsize=(10, 8))\n",
    "\n",
    "ax.pie(hotel_type_counts, labels=hotel_type_counts.index,       \n",
    "        colors=['#4682B4', '#B0C4DE'],\n",
    "        shadow=True,\n",
    "        autopct=lambda p:f'{p:1.1f}% , ({p*sum(hotel_type_counts)/100 :1.0f})' ,\n",
    "        startangle=90,\n",
    "        radius=200,\n",
    "        pctdistance=0.5,\n",
    "        labeldistance=1.15\n",
    "        )\n",
    "\n",
    "ax.axis('equal')\n",
    "\n",
    "ax.set_title('Hotel Booking Preferences',\n",
    "    weight=\"bold\",\n",
    "    color='#696969',\n",
    "    fontsize=18,\n",
    "    loc=\"left\")\n",
    "\n",
    "ax.legend(frameon=False,\n",
    "          loc='upper left',\n",
    "          labelcolor='#696969')\n",
    "\n",
    "plt.show()"
   ]
  },
  {
   "attachments": {},
   "cell_type": "markdown",
   "metadata": {},
   "source": [
    "### Hotel Booking Preferences\n",
    "\n",
    "**Key Observations:**\n",
    "\n",
    "\"According to the diagram, ``City Hotel`` has captured over ``61%`` of the total reservations, indicating a substantial preference for it over Resort Hotel.\""
   ]
  },
  {
   "attachments": {},
   "cell_type": "markdown",
   "metadata": {},
   "source": [
    " ### 2.What percentage of bookings were cancelled?"
   ]
  },
  {
   "cell_type": "code",
   "execution_count": 64,
   "metadata": {},
   "outputs": [
    {
     "data": {
      "image/png": "[encoded data removed]",
      "text/plain": [
       "<Figure size 1000x800 with 1 Axes>"
      ]
     },
     "metadata": {},
     "output_type": "display_data"
    }
   ],
   "source": [
    "bookings_cancelled = df['is_canceled'].value_counts()\n",
    "fig, ax = plt.subplots(figsize=(10, 8))\n",
    "\n",
    "labels = ['Not Cancelled','Cancelled' ]\n",
    "colors = ['#70c1b3', '#f25f5c']\n",
    "\n",
    "ax.pie(bookings_cancelled, labels=labels,       \n",
    "        colors=colors,\n",
    "        shadow=True,\n",
    "        autopct=lambda p:f'{p:1.1f}% , ({p*sum(bookings_cancelled)/100 :1.0f})' ,\n",
    "        startangle=90,\n",
    "        radius=200,\n",
    "        pctdistance=0.5,\n",
    "        labeldistance=1.1\n",
    "        )\n",
    "\n",
    "ax.axis('equal')\n",
    "\n",
    "ax.set_title('Cancellation Rates',\n",
    "    weight=\"bold\",\n",
    "    color='#696969',\n",
    "    fontsize=18,\n",
    "    loc=\"left\")\n",
    "\n",
    "ax.legend(frameon=False,\n",
    "          loc='upper left',\n",
    "          labelcolor='#696969')\n",
    "\n",
    "plt.show()"
   ]
  },
  {
   "attachments": {},
   "cell_type": "markdown",
   "metadata": {},
   "source": [
    "### Cancellation Rates\n",
    "\n",
    "**Key Observations:**\n",
    "\n",
    "\"The chart reveals a cancellation rate of approximately ``27%`` for all reservations.\""
   ]
  },
  {
   "attachments": {},
   "cell_type": "markdown",
   "metadata": {},
   "source": [
    "### 3. Based on different hotel types, what percentage of bookings were cancelled?"
   ]
  },
  {
   "cell_type": "code",
   "execution_count": 65,
   "metadata": {},
   "outputs": [
    {
     "data": {
      "text/html": [
       "<div>\n",
       "<style scoped>\n",
       "    .dataframe tbody tr th:only-of-type {\n",
       "        vertical-align: middle;\n",
       "    }\n",
       "\n",
       "    .dataframe tbody tr th {\n",
       "        vertical-align: top;\n",
       "    }\n",
       "\n",
       "    .dataframe thead th {\n",
       "        text-align: right;\n",
       "    }\n",
       "</style>\n",
       "<table border=\"1\" class=\"dataframe\">\n",
       "  <thead>\n",
       "    <tr style=\"text-align: right;\">\n",
       "      <th></th>\n",
       "      <th>is_canceled</th>\n",
       "      <th>hotel</th>\n",
       "    </tr>\n",
       "  </thead>\n",
       "  <tbody>\n",
       "    <tr>\n",
       "      <th>0</th>\n",
       "      <td>Not Cancelled</td>\n",
       "      <td>37377</td>\n",
       "    </tr>\n",
       "    <tr>\n",
       "      <th>1</th>\n",
       "      <td>Cancelled</td>\n",
       "      <td>16041</td>\n",
       "    </tr>\n",
       "  </tbody>\n",
       "</table>\n",
       "</div>"
      ],
      "text/plain": [
       "     is_canceled  hotel\n",
       "0  Not Cancelled  37377\n",
       "1      Cancelled  16041"
      ]
     },
     "execution_count": 65,
     "metadata": {},
     "output_type": "execute_result"
    }
   ],
   "source": [
    "City_hotel= df[df[\"hotel\"] == 'City Hotel']\n",
    "hotel_is_canceled= City_hotel.groupby('is_canceled', as_index=False)['hotel'].count()\n",
    "hotel_is_canceled['is_canceled'] = hotel_is_canceled['is_canceled'].map({1: 'Cancelled', 0: 'Not Cancelled'})\n",
    "hotel_is_canceled"
   ]
  },
  {
   "cell_type": "code",
   "execution_count": 66,
   "metadata": {},
   "outputs": [
    {
     "data": {
      "text/html": [
       "<div>\n",
       "<style scoped>\n",
       "    .dataframe tbody tr th:only-of-type {\n",
       "        vertical-align: middle;\n",
       "    }\n",
       "\n",
       "    .dataframe tbody tr th {\n",
       "        vertical-align: top;\n",
       "    }\n",
       "\n",
       "    .dataframe thead th {\n",
       "        text-align: right;\n",
       "    }\n",
       "</style>\n",
       "<table border=\"1\" class=\"dataframe\">\n",
       "  <thead>\n",
       "    <tr style=\"text-align: right;\">\n",
       "      <th></th>\n",
       "      <th>is_canceled</th>\n",
       "      <th>hotel</th>\n",
       "    </tr>\n",
       "  </thead>\n",
       "  <tbody>\n",
       "    <tr>\n",
       "      <th>0</th>\n",
       "      <td>Not Cancelled</td>\n",
       "      <td>25576</td>\n",
       "    </tr>\n",
       "    <tr>\n",
       "      <th>1</th>\n",
       "      <td>Cancelled</td>\n",
       "      <td>7946</td>\n",
       "    </tr>\n",
       "  </tbody>\n",
       "</table>\n",
       "</div>"
      ],
      "text/plain": [
       "     is_canceled  hotel\n",
       "0  Not Cancelled  25576\n",
       "1      Cancelled   7946"
      ]
     },
     "execution_count": 66,
     "metadata": {},
     "output_type": "execute_result"
    }
   ],
   "source": [
    "Resort_Hotel_hotel= df[df[\"hotel\"] == 'Resort Hotel']\n",
    "hotel_is_canceled_02= Resort_Hotel_hotel.groupby('is_canceled', as_index=False)['hotel'].count()\n",
    "hotel_is_canceled_02['is_canceled'] = hotel_is_canceled_02['is_canceled'].map({1: 'Cancelled', 0: 'Not Cancelled'})\n",
    "hotel_is_canceled_02"
   ]
  },
  {
   "cell_type": "code",
   "execution_count": 67,
   "metadata": {},
   "outputs": [
    {
     "data": {
      "image/png": "[encoded data removed]",
      "text/plain": [
       "<Figure size 1500x800 with 2 Axes>"
      ]
     },
     "metadata": {},
     "output_type": "display_data"
    }
   ],
   "source": [
    "fig, axis = plt.subplots(1, 2, figsize=(15, 8), sharey=True)\n",
    "\n",
    "City_Hotel_plot = sns.barplot(data=hotel_is_canceled, x='is_canceled', y='hotel', ax=axis[0],\n",
    "                              palette=['#70c1b3', '#f25f5c'], hue='is_canceled')\n",
    "\n",
    "City_Hotel_plot.set_xlabel(\"Status\", loc=\"left\", weight=\"bold\", fontsize=10, color=\"#696969\")\n",
    "City_Hotel_plot.set_ylabel('Bookings', loc=\"bottom\", weight=\"bold\", fontsize=10, color=\"#696969\")\n",
    "City_Hotel_plot.set_title('City Hotel', weight=\"bold\", color='#696969', fontsize=16, loc=\"left\")\n",
    "City_Hotel_plot.spines[[\"right\", \"top\"]].set_visible(False)\n",
    "\n",
    "for i in City_Hotel_plot.containers:\n",
    "    City_Hotel_plot.bar_label(i, fmt=lambda i: f'{i :1.0f}|{(i*100)/len(City_hotel):.1f} %', color='#696969', fontsize=12)\n",
    "\n",
    "City_Hotel_plot.tick_params(axis=\"x\", colors='#696969', labelsize=\"large\")\n",
    "City_Hotel_plot.tick_params(axis=\"y\", colors='#696969', labelsize=\"large\")\n",
    "\n",
    "Resort_Hotel_plot = sns.barplot(data=hotel_is_canceled_02, x='is_canceled', y='hotel', ax=axis[1],\n",
    "                                palette=['#70c1b3', '#f25f5c'], hue='is_canceled')\n",
    "\n",
    "Resort_Hotel_plot.set_xlabel(\"\")\n",
    "Resort_Hotel_plot.set_ylabel(\"\")\n",
    "Resort_Hotel_plot.set_title('Resort Hotel', weight=\"bold\", color='#696969', fontsize=16, loc=\"left\")\n",
    "Resort_Hotel_plot.spines[[\"right\", \"top\"]].set_visible(False)\n",
    "\n",
    "for i in Resort_Hotel_plot.containers:\n",
    "    Resort_Hotel_plot.bar_label(i, fmt=lambda i: f'{i :1.0f}|{(i*100)/len(Resort_Hotel_hotel):.2f} %', color='#696969', fontsize=12)\n",
    "\n",
    "Resort_Hotel_plot.tick_params(axis=\"x\", colors='#696969', labelsize=\"large\")\n",
    "Resort_Hotel_plot.tick_params(axis=\"y\", colors='#696969', labelsize=\"large\")\n",
    "\n",
    "plt.show()"
   ]
  },
  {
   "attachments": {},
   "cell_type": "markdown",
   "metadata": {},
   "source": [
    "### Cancellation Rates by Hotel Type\n",
    "\n",
    "**Key Observations:**\n",
    "\n",
    "\n",
    "According to the diagram, approximately ``30%`` of reservations have been canceled at ``City_Hotel``,\n",
    "\n",
    "while ``Resort_Hotel`` has experienced a cancellation rate of around ``23%``.\n",
    "\n",
    "Consequently,``Resort_Hotel`` has a relatively better performance in terms of cancellations.\n"
   ]
  },
  {
   "attachments": {},
   "cell_type": "markdown",
   "metadata": {},
   "source": [
    "### 4. In different years, what type of hotels were booked most and booked least?"
   ]
  },
  {
   "cell_type": "code",
   "execution_count": 68,
   "metadata": {},
   "outputs": [
    {
     "data": {
      "text/plain": [
       "array([2015, 2016, 2017], dtype=uint16)"
      ]
     },
     "execution_count": 68,
     "metadata": {},
     "output_type": "execute_result"
    }
   ],
   "source": [
    "different_years= df['arrival_date_year'].unique()\n",
    "different_years"
   ]
  },
  {
   "cell_type": "code",
   "execution_count": 69,
   "metadata": {},
   "outputs": [
    {
     "data": {
      "text/html": [
       "<div>\n",
       "<style scoped>\n",
       "    .dataframe tbody tr th:only-of-type {\n",
       "        vertical-align: middle;\n",
       "    }\n",
       "\n",
       "    .dataframe tbody tr th {\n",
       "        vertical-align: top;\n",
       "    }\n",
       "\n",
       "    .dataframe thead th {\n",
       "        text-align: right;\n",
       "    }\n",
       "</style>\n",
       "<table border=\"1\" class=\"dataframe\">\n",
       "  <thead>\n",
       "    <tr style=\"text-align: right;\">\n",
       "      <th></th>\n",
       "      <th></th>\n",
       "      <th>hotel</th>\n",
       "    </tr>\n",
       "    <tr>\n",
       "      <th>arrival_date_year</th>\n",
       "      <th>hotel</th>\n",
       "      <th></th>\n",
       "    </tr>\n",
       "  </thead>\n",
       "  <tbody>\n",
       "    <tr>\n",
       "      <th rowspan=\"2\" valign=\"top\">2015</th>\n",
       "      <th>City Hotel</th>\n",
       "      <td>6544</td>\n",
       "    </tr>\n",
       "    <tr>\n",
       "      <th>Resort Hotel</th>\n",
       "      <td>6656</td>\n",
       "    </tr>\n",
       "    <tr>\n",
       "      <th rowspan=\"2\" valign=\"top\">2016</th>\n",
       "      <th>City Hotel</th>\n",
       "      <td>26756</td>\n",
       "    </tr>\n",
       "    <tr>\n",
       "      <th>Resort Hotel</th>\n",
       "      <td>15368</td>\n",
       "    </tr>\n",
       "    <tr>\n",
       "      <th rowspan=\"2\" valign=\"top\">2017</th>\n",
       "      <th>City Hotel</th>\n",
       "      <td>20118</td>\n",
       "    </tr>\n",
       "    <tr>\n",
       "      <th>Resort Hotel</th>\n",
       "      <td>11498</td>\n",
       "    </tr>\n",
       "  </tbody>\n",
       "</table>\n",
       "</div>"
      ],
      "text/plain": [
       "                                hotel\n",
       "arrival_date_year hotel              \n",
       "2015              City Hotel     6544\n",
       "                  Resort Hotel   6656\n",
       "2016              City Hotel    26756\n",
       "                  Resort Hotel  15368\n",
       "2017              City Hotel    20118\n",
       "                  Resort Hotel  11498"
      ]
     },
     "execution_count": 69,
     "metadata": {},
     "output_type": "execute_result"
    }
   ],
   "source": [
    "different_years_hotel=df.groupby(['arrival_date_year',\"hotel\"],observed=False)\\\n",
    "    .agg({\"hotel\" : 'count'})\n",
    "different_years_hotel"
   ]
  },
  {
   "cell_type": "code",
   "execution_count": 71,
   "metadata": {},
   "outputs": [
    {
     "data": {
      "image/png": "[encoded data removed]",
      "text/plain": [
       "<Figure size 1600x800 with 1 Axes>"
      ]
     },
     "metadata": {},
     "output_type": "display_data"
    }
   ],
   "source": [
    "fig, ax = plt.subplots(figsize=(16, 8))\n",
    "different_years_hotel_plt= sns.countplot(data=df, x='arrival_date_year', hue='hotel',\n",
    "                                        palette=['#4682B4', '#B0C4DE'],legend='auto')\n",
    "\n",
    "different_years_hotel_plt.set_xlabel(\"Different years\",loc=\"left\", weight=\"bold\", fontsize=10, color=\"#696969\")\n",
    "\n",
    "different_years_hotel_plt.set_ylabel('Bookings',loc=\"bottom\", weight=\"bold\",fontsize=10 ,color=\"#696969\")\n",
    "\n",
    "different_years_hotel_plt.set_title('Hotel Booking Trends Over Time', weight=\"bold\",color='#696969', fontsize=20,loc=\"left\")\n",
    "\n",
    "for i in different_years_hotel_plt.containers:\n",
    " different_years_hotel_plt.bar_label(i,fmt=lambda i: f'{i :1.0f}',color='#696969', fontsize=12)\n",
    "\n",
    "different_years_hotel_plt.legend(frameon=False,loc='upper left',labelcolor='#696969')\n",
    "\n",
    "different_years_hotel_plt.tick_params(axis=\"x\", colors='#696969', labelsize=\"large\")\n",
    "different_years_hotel_plt.tick_params(axis=\"y\", colors='#696969', labelsize=\"large\")\n",
    "\n",
    "sns.despine(right=True, top=True)\n",
    "plt.show()"
   ]
  },
  {
   "attachments": {},
   "cell_type": "markdown",
   "metadata": {},
   "source": [
    "### Hotel Booking Trends Over Time\n",
    "\n",
    "**Key Observations:**\n",
    "\n",
    "``In 2015:``\n",
    "According to the diagram, ``Resort Hotel`` accounted for approximately ``50.42%`` of all reservations, while ``City Hotel`` accounted for about ``49.58%``.\n",
    "\n",
    "``In 2016:``\n",
    "``City Hotel`` captured approximately ``63%``of reservations, and ``Resort Hotel`` accounted for roughly ``37%``.\n",
    "\n",
    "``In 2017:``\n",
    "Similar to the previous year, ``City Hotel`` captured approximately ``63%`` of reservations, while ``Resort Hotel`` accounted for about ``37%``.\n",
    "\n",
    "In ``2015``, ``Resort Hotel`` had a slightly higher percentage of reservations. However, in the following year, ``City Hotel`` significantly increased its market share.\n",
    "Additionally, the total number of reservations experienced substantial growth in ``2016``.\n",
    "Although the overall number of reservations decreased in the final year, ``City Hotel`` continued to maintain a higher percentage of bookings."
   ]
  }
 ],
 "metadata": {
  "kernelspec": {
   "display_name": "vg01",
   "language": "python",
   "name": "python3"
  },
  "language_info": {
   "codemirror_mode": {
    "name": "ipython",
    "version": 3
   },
   "file_extension": ".py",
   "mimetype": "text/x-python",
   "name": "python",
   "nbconvert_exporter": "python",
   "pygments_lexer": "ipython3",
   "version": "3.12.4"
  },
  "orig_nbformat": 4
 },
 "nbformat": 4,
 "nbformat_minor": 2
}
